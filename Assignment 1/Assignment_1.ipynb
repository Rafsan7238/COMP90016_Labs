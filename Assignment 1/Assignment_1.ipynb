{
 "cells": [
  {
   "attachments": {},
   "cell_type": "markdown",
   "metadata": {
    "deletable": false,
    "editable": false,
    "nbgrader": {
     "cell_type": "markdown",
     "checksum": "518c2717d8f1a4cae111948d486159f2",
     "grade": false,
     "grade_id": "cell-30e4c45d614cd5dc",
     "locked": true,
     "schema_version": 3,
     "solution": false,
     "task": false
    },
    "pycharm": {
     "name": "#%% md\n"
    }
   },
   "source": [
    "# COMP90016 - Assignment 1\n",
    "Version 1 Last edited 13/3/2023\n",
    "\n",
    "## Semester 1, 2023"
   ]
  },
  {
   "cell_type": "code",
   "execution_count": 1,
   "metadata": {
    "pycharm": {
     "name": "#%%\n"
    }
   },
   "outputs": [],
   "source": [
    "NAME = \"Rafsan Al Mamun\"\n",
    "\n",
    "ID = \"1407776\""
   ]
  },
  {
   "cell_type": "markdown",
   "metadata": {
    "deletable": false,
    "editable": false,
    "nbgrader": {
     "cell_type": "markdown",
     "checksum": "5e8c68d85ccd49724adb36098b32c1ee",
     "grade": false,
     "grade_id": "cell-951d0408d2c9e864",
     "locked": true,
     "schema_version": 3,
     "solution": false,
     "task": false
    },
    "pycharm": {
     "name": "#%% md\n"
    }
   },
   "source": [
    "\n",
    "This assignment should be completed by each student individually. Make sure you read this entire document, and ask for help if anything is not clear. Any changes or clarifications to this document will be announced via the LMS.\n",
    "\n",
    "Please make sure you review the University's rules on academic honesty and plagiarism: https://academichonesty.unimelb.edu.au/\n",
    "\n",
    "Do not copy any code from other students or from the internet. This is considered plagiarism. You submission must be your own work.\n",
    "\n",
    "Your completed notebook file containing all your answers will be turned in via LMS. Please also submit an HTML file with the output cleared.\n",
    "\n",
    "To complete the assignment, finish the tasks in this notebook.\n",
    "\n",
    "The tasks are a combination of writing your own code, interpreting the results and answering related short-answer questions.\n",
    "\n",
    "In some cases, we have provided test input and test output that you can use to try out your solutions. These tests are just samples and are **not** exhaustive - they may warn you if you've made a mistake, but they are not guaranteed to. It's up to you to decide whether your code is correct.\n",
    "\n",
    "**Remember to save your work early and often.**"
   ]
  },
  {
   "cell_type": "markdown",
   "metadata": {
    "deletable": false,
    "editable": false,
    "nbgrader": {
     "cell_type": "markdown",
     "checksum": "11150b5faaddfd9b979dc1261ddd8b6c",
     "grade": false,
     "grade_id": "cell-0fa64c11580f7a4b",
     "locked": true,
     "schema_version": 3,
     "solution": false,
     "task": false
    },
    "pycharm": {
     "name": "#%% md\n"
    }
   },
   "source": [
    "## Marking\n",
    "\n",
    "Cells that must be completed to receive marks are clearly labelled. Some cells are code cells, in which you must complete the code to solve a problem. Others are markdown cells, in which you must write your answers to short-answer questions. \n",
    "\n",
    "Cells that must be completed to receive marks are labelled like this:\n",
    "\n",
    "`# -- GRADED CELL (1 mark) - complete this cell --`\n",
    "\n",
    "Some graded cells are code cells, in which you must complete the code to solve a problem. Other graded cells are markdown cells, in which you must write your answers to short-answer questions. \n",
    "\n",
    "You will see the following text in graded code cells:\n",
    "\n",
    "```\n",
    "# YOUR CODE HERE\n",
    "raise NotImplementedError()\n",
    "```\n",
    "\n",
    "***You must remove the `raise NotImplementedError()` line from the cell, and replace it with your solution.***\n",
    "\n",
    "Only add answers to graded cells. If you want to import a library or use a helper function, this must be included in a graded cell.\n",
    "\n",
    "Only graded cells will be marked.\n",
    "**Don't make changes outside graded cells, and don't add or remove cells from the notebook**.\n",
    "\n",
    ">Word limits, where stated, will be strictly enforced. Answers exceeding the limit **will not be marked**.\n",
    "\n",
    ">Run-time limits will be imposed for each coding question. The run-time of a code cell can be calculated by including `%time` at the top of your cell. Cells exceeding the run-time limit **will not be marked**. The run-time limits only apply to test cases that are included in this document.\n",
    "\n",
    "No marks are allocated to commenting in your code. We do however, encourage efficient and well-commented code.\n",
    "\n",
    "The total marks for the assignment add up to 100, and it will be worth 10% of your overall subject grade.\n",
    "\n",
    "Part 1: 55 marks\n",
    "\n",
    "Part 2: 25 marks\n",
    "\n",
    "Part 3: 20 marks\n"
   ]
  },
  {
   "cell_type": "markdown",
   "metadata": {
    "deletable": false,
    "editable": false,
    "nbgrader": {
     "cell_type": "markdown",
     "checksum": "8ad4235387fa97d5e5217e8934739593",
     "grade": false,
     "grade_id": "cell-55d3e13308159499",
     "locked": true,
     "schema_version": 3,
     "solution": false,
     "task": false
    },
    "pycharm": {
     "name": "#%% md\n"
    }
   },
   "source": [
    "## Submitting\n",
    "\n",
    "Before you turn this assignment in, make sure everything runs as expected. First, **restart the kernel** (in the menubar, select Kernel$\\rightarrow$Restart) and then **run all cells** (in the menubar, select Cell$\\rightarrow$Run All).\n",
    "\n",
    "Make sure you fill in any place that says `YOUR CODE HERE` or \"YOUR ANSWER HERE\", as well as your name and student ID number below:"
   ]
  },
  {
   "cell_type": "markdown",
   "metadata": {
    "deletable": false,
    "editable": false,
    "nbgrader": {
     "cell_type": "markdown",
     "checksum": "a4556c084136fbfdb9b0c1c247cefa1c",
     "grade": false,
     "grade_id": "cell-96effc84ad971c72",
     "locked": true,
     "schema_version": 3,
     "solution": false,
     "task": false
    },
    "pycharm": {
     "name": "#%% md\n"
    }
   },
   "source": [
    "## Overview\n",
    "\n",
    "In this assignment, you will answer questions about working with short reads, sequence motifs and codon bias.\n",
    "\n",
    "You will use the `biopython` library in your functions. You may want to refer to sections of the `biopython` documentation for additional help (https://biopython.org/wiki/Documentation). Additional to `biopython` and standard Python 3 functions and methods, you may also use any other library we have used in Computational Genomics including `collections`, `numpy`, `pandas`, `math`, `itertools`, `seaborn` and `matplotlib`."
   ]
  },
  {
   "cell_type": "markdown",
   "metadata": {
    "deletable": false,
    "editable": false,
    "nbgrader": {
     "cell_type": "markdown",
     "checksum": "8101314e9f5923f52047b296d4b0011f",
     "grade": false,
     "grade_id": "cell-1011fc361fb89a68",
     "locked": true,
     "schema_version": 3,
     "solution": false,
     "task": false
    },
    "pycharm": {
     "name": "#%% md\n"
    }
   },
   "source": [
    "## Part 1: Working with short reads"
   ]
  },
  {
   "cell_type": "markdown",
   "metadata": {
    "deletable": false,
    "editable": false,
    "nbgrader": {
     "cell_type": "markdown",
     "checksum": "e2a73028f92cebd1a469dd7b159213ae",
     "grade": false,
     "grade_id": "cell-f7aaadccf477cabd",
     "locked": true,
     "schema_version": 3,
     "solution": false,
     "task": false
    },
    "pycharm": {
     "name": "#%% md\n"
    }
   },
   "source": [
    "### Setup"
   ]
  },
  {
   "cell_type": "code",
   "execution_count": 2,
   "metadata": {
    "deletable": false,
    "editable": false,
    "nbgrader": {
     "cell_type": "code",
     "checksum": "12de99fcca60e414828d78d7a4dc8ab6",
     "grade": false,
     "grade_id": "cell-f76b27ab0d81d326",
     "locked": true,
     "schema_version": 3,
     "solution": false,
     "task": false
    },
    "pycharm": {
     "name": "#%%\n"
    }
   },
   "outputs": [],
   "source": [
    "import os\n",
    "import requests\n",
    "from IPython.core.display import HTML\n",
    "\n",
    "# Handy function to fetch our datafile\n",
    "def fetch_file(url): \n",
    "    response = requests.get(url)\n",
    "    if response.status_code == 200:\n",
    "        print('File found!')\n",
    "        filename = os.path.basename(url).split('?', 1)[0]\n",
    "        with open(filename, 'wb') as f:\n",
    "            f.write(response.content)\n",
    "            f.close()\n",
    "        print(f'Saved to: {filename}')\n",
    "    else:\n",
    "        print('File not found')"
   ]
  },
  {
   "cell_type": "code",
   "execution_count": 3,
   "metadata": {
    "deletable": false,
    "editable": false,
    "nbgrader": {
     "cell_type": "code",
     "checksum": "8ffc45316f87a4f1d61ae50267db2e9a",
     "grade": false,
     "grade_id": "cell-26495df15e96e64c",
     "locked": true,
     "schema_version": 3,
     "solution": false,
     "task": false
    },
    "pycharm": {
     "name": "#%%\n"
    }
   },
   "outputs": [
    {
     "data": {
      "text/plain": "<IPython.core.display.HTML object>",
      "text/html": "<style>h1 {\n    border: 3.0px solid #333;\n    padding: 12px 18px;\n    background-color: #C8D3FD;\n}\n\nh2 {\n    padding: 12px 18px;\n    background-color: #C8D3FD;\n}\n\n.question {\n    color: rgb(0, 96, 100);\n    background: rgb(178, 235, 242);\n    border: solid 1px rgb(77, 208, 225);\n    padding: 10px;\n}\n\n.info {\n    color: rgb(27, 94, 32);\n    background: rgb(200, 230, 201);\n    border: solid 1px rgb(129, 199, 132);\n    padding: 10px;\n}\n\n</style>"
     },
     "execution_count": 3,
     "metadata": {},
     "output_type": "execute_result"
    }
   ],
   "source": [
    "# Make the notebook pretty\n",
    "HTML(requests.get('https://raw.githubusercontent.com/melbournebioinformatics/COMP90016/main/data/2023/style/custom.css').text)"
   ]
  },
  {
   "cell_type": "code",
   "execution_count": 4,
   "metadata": {
    "deletable": false,
    "editable": false,
    "nbgrader": {
     "cell_type": "code",
     "checksum": "f046ade1e4f3ffbd0402ab5c8e896228",
     "grade": false,
     "grade_id": "cell-57a855c50b57da4d",
     "locked": true,
     "schema_version": 3,
     "solution": false,
     "task": false
    },
    "pycharm": {
     "name": "#%%\n"
    }
   },
   "outputs": [
    {
     "name": "stdout",
     "output_type": "stream",
     "text": [
      "File found!\n",
      "Saved to: comp90016_assignment_1.fastq.gz\n"
     ]
    }
   ],
   "source": [
    "# Fetch assignment data\n",
    "url = 'https://github.com/melbournebioinformatics/COMP90016/blob/main/data/2023/Assignment_01/data/comp90016_assignment_1.fastq.gz?raw=true'\n",
    "fetch_file(url)"
   ]
  },
  {
   "cell_type": "markdown",
   "metadata": {
    "deletable": false,
    "editable": false,
    "nbgrader": {
     "cell_type": "markdown",
     "checksum": "317925856ed33a4dc63f333ad3b40140",
     "grade": false,
     "grade_id": "cell-705f256556e1340f",
     "locked": true,
     "schema_version": 3,
     "solution": false,
     "task": false
    },
    "pycharm": {
     "name": "#%% md\n"
    }
   },
   "source": [
    "First, we read in a read set from the `comp90016_assignment_1.fastq.gz` file. Note that converting a readset into a list of `biopython` objects makes it easier to handle."
   ]
  },
  {
   "cell_type": "code",
   "execution_count": 5,
   "metadata": {
    "deletable": false,
    "editable": false,
    "nbgrader": {
     "cell_type": "code",
     "checksum": "7d2869bdec01ec45ea57bca88c632aa0",
     "grade": false,
     "grade_id": "cell-e23caa017b13db4c",
     "locked": true,
     "schema_version": 3,
     "solution": false,
     "task": false
    },
    "pycharm": {
     "name": "#%%\n"
    }
   },
   "outputs": [],
   "source": [
    "import gzip\n",
    "from Bio import SeqIO, SeqRecord, Seq"
   ]
  },
  {
   "cell_type": "code",
   "execution_count": 6,
   "metadata": {
    "deletable": false,
    "editable": false,
    "nbgrader": {
     "cell_type": "code",
     "checksum": "078b8d996c3100f3e4bd44284aa5ea0f",
     "grade": false,
     "grade_id": "cell-4eae438b3d4c4cb3",
     "locked": true,
     "schema_version": 3,
     "solution": false,
     "task": false
    },
    "pycharm": {
     "name": "#%%\n"
    }
   },
   "outputs": [],
   "source": [
    "fname = 'comp90016_assignment_1.fastq.gz'\n",
    "\n",
    "# Our fastq file is compressed using gzip. \n",
    "# We must open it before SeqIO can read the contents\n",
    "with gzip.open(fname, \"rt\") as handle:\n",
    "    readset = list(SeqIO.parse(handle, \"fastq\"))"
   ]
  },
  {
   "cell_type": "markdown",
   "metadata": {
    "deletable": false,
    "editable": false,
    "nbgrader": {
     "cell_type": "markdown",
     "checksum": "1ced3b62d5a4ba11adc9e469ee43ea1e",
     "grade": false,
     "grade_id": "cell-097602685e91ae61",
     "locked": true,
     "schema_version": 3,
     "solution": false,
     "task": false
    },
    "pycharm": {
     "name": "#%% md\n"
    }
   },
   "source": [
    "### Questions\n",
    "In the cells below, complete the following tasks:"
   ]
  },
  {
   "cell_type": "markdown",
   "metadata": {
    "deletable": false,
    "editable": false,
    "nbgrader": {
     "cell_type": "markdown",
     "checksum": "da0ec02d640ab0bf0f24e31ffaba3a06",
     "grade": false,
     "grade_id": "Q-1-1-info",
     "locked": true,
     "schema_version": 3,
     "solution": false,
     "task": false
    },
    "pycharm": {
     "name": "#%% md\n"
    }
   },
   "source": [
    "<div class=\"info\">\n",
    "<h3> Question 1.1 </h3>\n",
    "\n",
    "(5 marks)  \n",
    " \n",
    "<b>Challenge:</b> Write a Python function to compute the following stats for an input readset:\n",
    "\n",
    "- The minimum read length\n",
    "- The mean read length and \n",
    "- The maximum read length\n",
    "\n",
    "Input: a list of Bio.SeqRecord.SeqRecord objects. \n",
    "\n",
    "Output: Return a `list` with the minimum read length as an integer, the mean read length as a floating-point number and the maximum read length as in integer. \n",
    "\n",
    "The elements of the output list should be in the order: minimum read length, mean read length, maximum read length. \n",
    "    \n",
    "If the input list is empty, return None.\n",
    "</div>"
   ]
  },
  {
   "cell_type": "code",
   "execution_count": null,
   "metadata": {
    "deletable": false,
    "nbgrader": {
     "cell_type": "code",
     "checksum": "c6f67622e9e7abd690ab46a9924939cf",
     "grade": false,
     "grade_id": "Q-1-1",
     "locked": false,
     "schema_version": 3,
     "solution": true,
     "task": false
    },
    "pycharm": {
     "name": "#%%\n"
    }
   },
   "outputs": [],
   "source": [
    "# GRADED CELL 1.1 (5 marks, max 1 min run-time)\n",
    "\n",
    "def read_lengths(reads):\n",
    "    \"\"\"\n",
    "    Calculate minimum, mean and maximum read lengths in a readset. \n",
    "    Assume reads is a list of Bio.SeqRecord.SeqRecord objects containing DNA sequences. \n",
    "    Return a list with the minimum read length as an integer, the mean read length as a floating-point number and the maximum read length as in integer.\n",
    "    The output list should be in the order: minimum read length, mean read length, maximum read length.\n",
    "    If the input list is empty, return None.\n",
    "    \"\"\"\n",
    "    \n",
    "    # YOUR CODE HERE\n",
    "    raise NotImplementedError()"
   ]
  },
  {
   "cell_type": "code",
   "execution_count": null,
   "metadata": {
    "pycharm": {
     "name": "#%%\n"
    }
   },
   "outputs": [],
   "source": [
    "# Test your function in this cell\n",
    "# First we will create a list of dummy reads\n",
    "demo_reads = [SeqRecord.SeqRecord(Seq.Seq('GTTGGATTCATGAAAGA'), 'ERR024571.2', '', ''),\n",
    "             SeqRecord.SeqRecord(Seq.Seq('ATGAAATGAATGTCTTGA'), 'ERR024571.2', '', '')]\n",
    "\n",
    "print(read_lengths(demo_reads)) # should output [17, 17.5, 18]\n",
    "\n",
    "print(read_lengths(readset))"
   ]
  },
  {
   "cell_type": "code",
   "execution_count": null,
   "metadata": {
    "deletable": false,
    "editable": false,
    "nbgrader": {
     "cell_type": "code",
     "checksum": "98d1ca915a13843141f1b6245f61264d",
     "grade": true,
     "grade_id": "T-1-1",
     "locked": true,
     "points": 5,
     "schema_version": 3,
     "solution": false,
     "task": false
    },
    "pycharm": {
     "name": "#%%\n"
    }
   },
   "outputs": [],
   "source": [
    "# --- AUTOGRADING CELL DO NOT EDIT ----\n"
   ]
  },
  {
   "cell_type": "markdown",
   "metadata": {
    "deletable": false,
    "editable": false,
    "nbgrader": {
     "cell_type": "markdown",
     "checksum": "f53be5165c4163e816361217aad50ce2",
     "grade": false,
     "grade_id": "Q-1-2-info",
     "locked": true,
     "schema_version": 3,
     "solution": false,
     "task": false
    },
    "pycharm": {
     "name": "#%% md\n"
    }
   },
   "source": [
    "<div class=\"info\">\n",
    "\n",
    "<h3> Question 1.2 </h3>\n",
    "\n",
    "(15 marks)\n",
    "\n",
    "Suppose quality control metrics indicated that there were unacceptable levels of adapter contamination in the reads. The sequence of the adapter has been determined and it matches an adapter sequence used in the sequencing. \n",
    "\n",
    "<b>Challenge:</b> Write a Python function that performs the following tasks and returns the new readset as list of SeqRecord objects.\n",
    "\n",
    "- If a read has an unbroken subsequence of length min_match bases or greater in common with the adapter sequence, trim all bases in the reads that are 3’ of the start of the adapter sequence match, including the first matching base.\n",
    "- Remove any read that is shorter than min_length bases long after trimming.\n",
    "\n",
    "Assumptions:\n",
    "- Assume min_match and min_length are positive integers. \n",
    "- Assume reads is list of Bio.SeqRecord.SeqRecord objects, each object contains a sequence that is a Bio.Seq.Seq object.   \n",
    "- Assume adapter_seq is a Bio.SeqRecord.SeqRecord object. If the readset list or the adapter_seq is empty, return None.\n",
    "\n",
    "</div>"
   ]
  },
  {
   "cell_type": "code",
   "execution_count": null,
   "metadata": {
    "deletable": false,
    "nbgrader": {
     "cell_type": "code",
     "checksum": "ea80bdea0dc2a9659cb6fb4ab6430dbc",
     "grade": false,
     "grade_id": "Q-1-2",
     "locked": false,
     "schema_version": 3,
     "solution": true,
     "task": false
    },
    "pycharm": {
     "name": "#%%\n"
    }
   },
   "outputs": [],
   "source": [
    "# GRADED CELL 1.2 (15 marks, max 1 min run-time)\n",
    "\n",
    "def adapter_trim(reads, adapter_seq, min_match, min_length):\n",
    "    \"\"\"\n",
    "    Trim reads in a readset based on a given adapter sequence.\n",
    "    If a read has an unbroken subsequence of length min_match bases or greater in common with the adapter sequence, trim all bases in the reads that are 3’ of the start of the adapter sequence match, including the first matching base. \n",
    "    Remove any read that is min_length bases long or shorter after trimming.\n",
    "    Assume min_match and min_length are positive integers.\n",
    "    Assume reads is list of Bio.SeqRecord.SeqRecord objects.\n",
    "    Assume adapter_seq is a Bio.SeqRecord.SeqRecord object.\n",
    "    If the readset list or the adapter_seq is empty, return None.\n",
    "    Return the new readset as a list of Bio.SeqRecord.SeqRecord objects.\n",
    "    \"\"\"\n",
    "    \n",
    "    # YOUR CODE HERE\n",
    "    raise NotImplementedError()\n",
    "    \n",
    "    return filtered_reads    "
   ]
  },
  {
   "cell_type": "code",
   "execution_count": null,
   "metadata": {
    "pycharm": {
     "name": "#%%\n"
    }
   },
   "outputs": [],
   "source": [
    "# Test your function in this cell\n",
    "illumina_adapter = SeqRecord.SeqRecord(Seq.Seq('GATCGGAAGAGCTCGTATGCCGTCTTCTGCTTGGATCGGAAGAGCACACG'), '', '', '')\n",
    "demo_adapter = SeqRecord.SeqRecord(Seq.Seq('GATGAAAG'), '', '', '')\n",
    "\n",
    "# should output a list with just one SeqRecord object containing the sequence ATGAAATGAATGTCTTGA\n",
    "print(adapter_trim(demo_reads, demo_adapter, 7, 15)) \n",
    "\n",
    "# Test with longer min length\n",
    "print(len(adapter_trim(readset, illumina_adapter, 10, 50)))"
   ]
  },
  {
   "cell_type": "code",
   "execution_count": null,
   "metadata": {
    "deletable": false,
    "editable": false,
    "nbgrader": {
     "cell_type": "code",
     "checksum": "66214efb72d997b26041073490006ef6",
     "grade": true,
     "grade_id": "T-1-2",
     "locked": true,
     "points": 15,
     "schema_version": 3,
     "solution": false,
     "task": false
    },
    "pycharm": {
     "name": "#%%\n"
    }
   },
   "outputs": [],
   "source": [
    "# --- AUTOGRADING CELL DO NOT EDIT ----\n",
    "\n"
   ]
  },
  {
   "cell_type": "markdown",
   "metadata": {
    "deletable": false,
    "editable": false,
    "nbgrader": {
     "cell_type": "markdown",
     "checksum": "d86d8e63c6e1f56939cfc5c694db59ac",
     "grade": false,
     "grade_id": "Q-1-3-info",
     "locked": true,
     "points": 10,
     "schema_version": 3,
     "solution": false,
     "task": true
    },
    "pycharm": {
     "name": "#%% md\n"
    }
   },
   "source": [
    "<div class=\"info\">\n",
    "    \n",
    "<h3>Question 1.3</h3>\n",
    "    \n",
    "(10 marks)\n",
    "\n",
    "<b>Challenge:</b> Write Python code to produce two histograms showing the distribution of read lengths in...\n",
    "\n",
    "- The original `comp90016_assignment_1.fastq.gz` readset.\n",
    "- The output readset after adapters have been removed from `comp90016_assignment_1.fastq.gz` using your function from part 1.2.\n",
    "- Trim reads with settings: `adapter_seq=illumina_adapter, min_match=10, min_length=50`\n",
    "\n",
    "You may show both distributions on the same set of axes, or two completely separate histograms. The plots should be produced inline, in the Jupyter notebook. Choose an appropriate bin-width. Label your axes appropriately (include units). Use labels to make it clear which distribution has been pre-processed.\n",
    "\n",
    "You may use the readset list of Bio.SeqRecord.SeqRecord objects as input. Your code does not have to include a function.\n",
    "\n",
    "</div>"
   ]
  },
  {
   "cell_type": "code",
   "execution_count": null,
   "metadata": {
    "pycharm": {
     "name": "#%%\n"
    }
   },
   "outputs": [],
   "source": [
    "# Here's some Jupyter magic to render plots in the notebook\n",
    "%matplotlib inline\n",
    "\n",
    "# You may want to import some additional packages for building and formatting your graphs (non-essential)\n",
    "# Un-comment as reqired\n",
    "#import numpy as np\n",
    "#import matplotlib.pyplot as plt\n",
    "#import seaborn\n",
    "#from collections import Counter"
   ]
  },
  {
   "cell_type": "code",
   "execution_count": null,
   "metadata": {
    "deletable": false,
    "nbgrader": {
     "cell_type": "code",
     "checksum": "258f5bb922e89dc18e0fe98f26810f54",
     "grade": false,
     "grade_id": "Q-1-3",
     "locked": false,
     "schema_version": 3,
     "solution": true,
     "task": false
    },
    "pycharm": {
     "name": "#%%\n"
    }
   },
   "outputs": [],
   "source": [
    "# GRADED CELL 1.3 (10 marks, max 1 min run-time)\n",
    "\n",
    "# Use this cell to make your histograms.\n",
    "\n",
    "# YOUR CODE HERE\n",
    "raise NotImplementedError()"
   ]
  },
  {
   "cell_type": "code",
   "execution_count": null,
   "metadata": {
    "pycharm": {
     "name": "#%%\n"
    }
   },
   "outputs": [],
   "source": [
    "# Set the variables below to report total read count and mean read length before and after trimming.\n",
    "\n",
    "# Stats for reads\n",
    "#length_stats = None \n",
    "\n",
    "# Stats for trimmed reads\n",
    "#trimmed_reads = None\n",
    "#trimmed_length_stats = None\n",
    "\n",
    "\n",
    "print(f'Mean read length before adapter trimming : {length_stats[1]:.3f}')\n",
    "print(f'Mean read length after adapter trimming : {trimmed_length_stats[1]:.3f}')\n",
    "\n",
    "print(f'Number of reads in the readset before adapter trimming : {len(readset)}')\n",
    "print(f'Number of reads in the readset after adapter trimming : {len(trimmed_reads)}')"
   ]
  },
  {
   "cell_type": "markdown",
   "metadata": {
    "deletable": false,
    "editable": false,
    "nbgrader": {
     "cell_type": "markdown",
     "checksum": "47ddb833e227c6a4ef44efd10d754fda",
     "grade": false,
     "grade_id": "Q-1-4",
     "locked": true,
     "points": 5,
     "schema_version": 3,
     "solution": false,
     "task": true
    },
    "pycharm": {
     "name": "#%% md\n"
    }
   },
   "source": [
    "<div class=\"question\">\n",
    "<h3>Question 1.4</h3>\n",
    "    \n",
    "(5 marks, max 50 words)\n",
    "\n",
    "In words, compare the two histograms and the two mean read lengths from before and after adapter removal.\n",
    "\n",
    "</div>"
   ]
  },
  {
   "cell_type": "markdown",
   "metadata": {
    "pycharm": {
     "name": "#%% md\n"
    }
   },
   "source": [
    "#### -- GRADED CELL (5 marks) - complete this cell -- \n",
    "\n",
    "YOUR ANSWER HERE"
   ]
  },
  {
   "cell_type": "markdown",
   "metadata": {
    "deletable": false,
    "editable": false,
    "nbgrader": {
     "cell_type": "markdown",
     "checksum": "dcbdeb8f1a3169391ceea0d10472fa5e",
     "grade": false,
     "grade_id": "Q-1-5",
     "locked": true,
     "points": 10,
     "schema_version": 3,
     "solution": false,
     "task": true
    },
    "pycharm": {
     "name": "#%% md\n"
    }
   },
   "source": [
    "<div class=\"question\">\n",
    "\n",
    "<h3>Question 1.5</h3>\n",
    "\n",
    "(10 marks, max 100 words)\n",
    "\n",
    "Describe factors should impact your choice of min_match and min_length when using your adapter removal function? \n",
    "\n",
    "Describe two possible consequences of choosing inappropriate values for these parameters?\n",
    "    \n",
    "</div>\n",
    "\n",
    "    "
   ]
  },
  {
   "cell_type": "markdown",
   "metadata": {
    "pycharm": {
     "name": "#%% md\n"
    }
   },
   "source": [
    "#### -- GRADED CELL (10 marks) - complete this cell -- \n",
    "\n",
    "You answer here"
   ]
  },
  {
   "cell_type": "markdown",
   "metadata": {
    "deletable": false,
    "editable": false,
    "nbgrader": {
     "cell_type": "markdown",
     "checksum": "4a033df540a02d10f106a6810b887557",
     "grade": false,
     "grade_id": "Q-1-6",
     "locked": true,
     "points": 10,
     "schema_version": 3,
     "solution": false,
     "task": true
    },
    "pycharm": {
     "name": "#%% md\n"
    }
   },
   "source": [
    "<div class=\"question\">\n",
    "<h3>Question 1.6</h3>\n",
    "\n",
    "(10 marks, max 150 words)\n",
    "\n",
    "Sequence data can be stored and shared in a variety of file formats.\n",
    "Describe the main differences between FASTA, FASTQ and GenBank file formats.  For each of these three file formats, give an example of the type of data that might be appropriately stored in this format.\n",
    "\n",
    "</div>\n",
    "    "
   ]
  },
  {
   "cell_type": "markdown",
   "metadata": {
    "pycharm": {
     "name": "#%% md\n"
    }
   },
   "source": [
    "#### -- GRADED CELL (10 marks) - complete this cell -- \n",
    "\n",
    "YOUR ANSWER HERE"
   ]
  },
  {
   "cell_type": "markdown",
   "metadata": {
    "deletable": false,
    "editable": false,
    "nbgrader": {
     "cell_type": "markdown",
     "checksum": "39741a08f779239260b755b44c4b9a95",
     "grade": false,
     "grade_id": "cell-17188101c3556463",
     "locked": true,
     "schema_version": 3,
     "solution": false,
     "task": false
    },
    "pycharm": {
     "name": "#%% md\n"
    }
   },
   "source": [
    "## Part 2: Sequence motifs\n",
    "Sequence motifs are short, recurring patterns in nucleic-acid sequences. Many are involved in important biological functions."
   ]
  },
  {
   "cell_type": "markdown",
   "metadata": {
    "deletable": false,
    "editable": false,
    "nbgrader": {
     "cell_type": "markdown",
     "checksum": "d2eee8341ca1f84868b2e3a0e9ff5d1a",
     "grade": false,
     "grade_id": "cell-a007168309140f9b",
     "locked": true,
     "schema_version": 3,
     "solution": false,
     "task": false
    },
    "pycharm": {
     "name": "#%% md\n"
    }
   },
   "source": [
    "### Setup"
   ]
  },
  {
   "cell_type": "code",
   "execution_count": null,
   "metadata": {
    "deletable": false,
    "editable": false,
    "nbgrader": {
     "cell_type": "code",
     "checksum": "8f58d7422bdef947479b1825cd49e542",
     "grade": false,
     "grade_id": "cell-6bd0cb700c0c2719",
     "locked": true,
     "schema_version": 3,
     "solution": false,
     "task": false
    },
    "pycharm": {
     "name": "#%%\n"
    }
   },
   "outputs": [],
   "source": [
    "# Set up two DNA sequences to test your code on. Do not change these sequences.\n",
    "linear_seq = Seq.Seq('TTACAGTGATTATGAAAACTTTGCGGGGCATGGCTACGACTTGTTCAGCCACGTCCGAGGGCAGAAACCTCGAGGGGTTTGTATGTTCAGCTATCTTCTACCCATCCCCGGAGGTTAAGTACGAGGGGAGATGCGGAAGAGGCTCTCGATCATCCCGTGGGACATCAACCTTTCCCTTGATAAAGCACCCCGCTCGGGTA')\n",
    "circular_seq = Seq.Seq('TGGCAGAGAGAACGCCTTCTGAATTGTGCTATCCTTCGACCTTATCAAAGCTTGCTACCAATAATTAGGATTATTGCCTTGCGACAGACCTCCTACTCACACTGCCTCACATTGAGCTAGTCAGTGAGCGATTAGCTTGACCCGCTCTCTAGGGTCGCGAGTACGTGAGCTAGGGCTCCGGACTGGGCTATATAGTCGAG')\n",
    "\n",
    "# Set up a dictionary of sequence motifs. Do not change this dictionary.\n",
    "motif_dict = {'motif_a': Seq.Seq('TACAGTG'), \n",
    "              'motif_b': Seq.Seq('AGCTTGCT'), \n",
    "              'motif_c': Seq.Seq('ATATATAC'), \n",
    "              'motif_d': Seq.Seq('CGAGGGG'), \n",
    "              'motif_e': Seq.Seq('CGAGTG')}"
   ]
  },
  {
   "cell_type": "markdown",
   "metadata": {
    "deletable": false,
    "editable": false,
    "nbgrader": {
     "cell_type": "markdown",
     "checksum": "e703d4870acdd746ecd663acad6efb7b",
     "grade": false,
     "grade_id": "cell-99ef11aef8b24525",
     "locked": true,
     "schema_version": 3,
     "solution": false,
     "task": false
    },
    "pycharm": {
     "name": "#%% md\n"
    }
   },
   "source": [
    "### Questions"
   ]
  },
  {
   "cell_type": "markdown",
   "metadata": {
    "deletable": false,
    "editable": false,
    "nbgrader": {
     "cell_type": "markdown",
     "checksum": "ba31aab216f16c9bb18fa4cd9c31be1f",
     "grade": false,
     "grade_id": "cell-df128fe796c39fc1",
     "locked": true,
     "schema_version": 3,
     "solution": false,
     "task": false
    },
    "pycharm": {
     "name": "#%% md\n"
    }
   },
   "source": [
    "<div class=\"info\">\n",
    "\n",
    "<h3>Question 2.1</h3>\n",
    "\n",
    "(10 marks)\n",
    "\n",
    "<b>Challenge:</b> Write a Python function to count the number of times sequence motifs are present in a DNA sequence. \n",
    "\n",
    "Assume motifs is a dictionary with motif names as strings for keys and Bio.Seq.Seq objects for values. Assume seq is a Bio.Seq.Seq object. \n",
    "\n",
    "Return a pandas DataFrame with each motif represented as a row. The first column should contain motif names as strings, the second column should contain integer counts of exact matches. Overlapping motifs should be considered. The column names should be “Motif” and “Counts”. If either seq or motifs are empty, return None.\n",
    "\n",
    "</div>"
   ]
  },
  {
   "cell_type": "code",
   "execution_count": null,
   "metadata": {
    "deletable": false,
    "nbgrader": {
     "cell_type": "code",
     "checksum": "f3d6c3b902fbe51696fcd26963482839",
     "grade": false,
     "grade_id": "Q-2-1",
     "locked": false,
     "schema_version": 3,
     "solution": true,
     "task": false
    },
    "pycharm": {
     "name": "#%%\n"
    }
   },
   "outputs": [],
   "source": [
    "# GRADED CELL Question 2.1 (10 marks, max 1 min run-time)\n",
    "\n",
    "import pandas as pd\n",
    "\n",
    "def motif_count(seq, motifs):\n",
    "    \"\"\"\n",
    "    Count the number of times sequence motifs are present in a DNA sequence. \n",
    "    Overlapping motifs should be considered.\n",
    "    Assume motifs is a dictionary with motif names as strings for keys and Bio.Seq.Seq objects for values. \n",
    "    Assume seq is an Bio.Seq.Seq object. \n",
    "    Return a pandas DataFrame with each motif represented as a row. \n",
    "    The first column should contain motif names as strings, the second column should contain integer counts of exact matches. \n",
    "    The column names should be “Motif” and “Counts”, in that order. \n",
    "    If either seq or motifs are empty, return None.\n",
    "    \"\"\"\n",
    "    \n",
    "   # YOUR CODE HERE\n",
    "   raise NotImplementedError()"
   ]
  },
  {
   "cell_type": "code",
   "execution_count": null,
   "metadata": {
    "pycharm": {
     "name": "#%%\n"
    }
   },
   "outputs": [],
   "source": [
    "# ~~ Test your function in this cell ~~\n",
    "\n",
    "demo_seq = Seq.Seq('GTTGGATTCATGAAAGA')\n",
    "demo_motifs = {'motif_a': Seq.Seq('GTTG'), 'motif_b': Seq.Seq('AAAA')}\n",
    "\n",
    "# Should output a pandas dataframe with 2 rows and 2 columns. Row 1: motif_a, 1. Row 2: motif_b, 0\n",
    "'''\n",
    "     Motif  Counts\n",
    "0  motif_a       1\n",
    "1  motif_b       0\n",
    "'''\n",
    "print(motif_count(demo_seq, demo_motifs)) \n",
    "\n",
    "# Test on linear seq\n",
    "print(motif_count(linear_seq, motif_dict))\n"
   ]
  },
  {
   "cell_type": "code",
   "execution_count": null,
   "metadata": {
    "deletable": false,
    "editable": false,
    "nbgrader": {
     "cell_type": "code",
     "checksum": "c4f937e28e1ebf8da8206fe5f08a37d3",
     "grade": true,
     "grade_id": "T-2-1",
     "locked": true,
     "points": 10,
     "schema_version": 3,
     "solution": false,
     "task": false
    },
    "pycharm": {
     "name": "#%%\n"
    }
   },
   "outputs": [],
   "source": [
    "# --- AUTOGRADING CELL DO NOT EDIT ----\n",
    "\n",
    "\n"
   ]
  },
  {
   "cell_type": "markdown",
   "metadata": {
    "deletable": false,
    "editable": false,
    "nbgrader": {
     "cell_type": "markdown",
     "checksum": "6f2222e3268eda53fcfc4a8f824a5721",
     "grade": false,
     "grade_id": "cell-a287cd3ad8409271",
     "locked": true,
     "schema_version": 3,
     "solution": false,
     "task": false
    },
    "pycharm": {
     "name": "#%% md\n"
    }
   },
   "source": [
    "<div class=\"info\">\n",
    "\n",
    "<h3>Question 2.2</h3>\n",
    "\n",
    "(15 marks)\n",
    "\n",
    "A colleague is working on sequence motifs in circular DNA molecules. Circular DNA molecules can also be stored in FASTQ files and Bio.Seq.Seq objects but care has to be taken when programming so that the final base is treated as though it is adjacent to the first base. You decide to help your colleague by enhancing your function from 2.1\n",
    "\n",
    "<b>Challenge:</b> Write a Python function to count the number of times sequence motifs are present in a circular DNA sequence. \n",
    "\n",
    "The function should count the number of exact matches and the number of near misses. A near miss is defined as a sequence that is the same length a sequence motif but has a single base mismatch. Assume motifs is a dictionary with motif names as strings for keys and Bio.Seq.Seq objects for values. Assume seq_circular is an Bio.Seq.Seq object. \n",
    "\n",
    "Return a pandas DataFrame with each motif represented as a row. The first column should contain motif names as strings, the second column should contain integer counts of exact matches, the third column should contain integer counts of near misses. The column names should be “Motif”, “Match_counts” and \"Near_miss_counts\". If either seq_circular or motifs are empty, return None.\n",
    "    \n",
    "</div>"
   ]
  },
  {
   "cell_type": "code",
   "execution_count": null,
   "metadata": {
    "deletable": false,
    "editable": false,
    "nbgrader": {
     "cell_type": "code",
     "checksum": "b5ffff553605bedaa7f6bb8a798c5693",
     "grade": false,
     "grade_id": "cell-747c91482faa7c41",
     "locked": true,
     "schema_version": 3,
     "solution": false,
     "task": false
    },
    "pycharm": {
     "name": "#%%\n"
    }
   },
   "outputs": [],
   "source": [
    "# Import additional library\n",
    "from collections import Counter \n",
    "\n",
    "# Helper function\n",
    "# Use this to identify near miss instances of a reference motif i.e. containing a single base mismatch\n",
    "def hamming_dist(s1, s2):\n",
    "    \"\"\"\n",
    "    A helper function to calculate the hamming distance between two sequences.\n",
    "    Assume the input sequences are strings.\n",
    "    They should be of equal length in order to calculate hamming distance\n",
    "    \"\"\"\n",
    "    assert len(s1) == len(s2)\n",
    "    return sum(c1 != c2 for c1, c2 in zip(s1, s2))"
   ]
  },
  {
   "cell_type": "code",
   "execution_count": null,
   "metadata": {
    "deletable": false,
    "nbgrader": {
     "cell_type": "code",
     "checksum": "fcff2a60439b2fd77257a25cfd402f5c",
     "grade": false,
     "grade_id": "Q-2-2",
     "locked": false,
     "schema_version": 3,
     "solution": true,
     "task": false
    },
    "pycharm": {
     "name": "#%%\n"
    }
   },
   "outputs": [],
   "source": [
    "# GRADED CELL Question 2.2 (15 marks, max 1 min run-time)\n",
    "\n",
    "def motif_count_circular(seq, motifs):\n",
    "    \"\"\"\n",
    "    Count the number of times sequence motifs are present in a circular DNA sequence. \n",
    "    Counts the number of exact matches and the number of near misses. \n",
    "    A near miss is defined as a sequence that is the same length a sequence motif but has a single base mismatch. \n",
    "    Assume motifs is a dictionary with motif names as strings for keys and Bio.Seq.Seq objects for values. \n",
    "    Assume seq_circular is an Bio.Seq.Seq object. \n",
    "    Return a pandas DataFrame with each motif represented as a row. \n",
    "    The first column should contain motif names as strings, the second column should contain integer counts of exact matches, the third column should contain integer counts of near misses.\n",
    "    The column names should be “Motif”, “Match_counts” and \"Near_miss_counts\".\n",
    "    If either seq_circular or motifs are empty, return None.\n",
    "    \"\"\"\n",
    "\n",
    "    # YOUR CODE HERE\n",
    "    raise NotImplementedError()\n",
    "    "
   ]
  },
  {
   "cell_type": "code",
   "execution_count": null,
   "metadata": {
    "pycharm": {
     "name": "#%%\n"
    }
   },
   "outputs": [],
   "source": [
    "# Test your function in this cell\n",
    "# Should output a pandas dataframe with 2 rows and 3 columns that looks like this:\n",
    "'''\n",
    "     Motif  Match_counts  Near_miss_counts\n",
    "0  motif_a             1                 0\n",
    "1  motif_b             0                 3\n",
    "'''\n",
    "print(motif_count_circular(demo_seq, demo_motifs)) \n",
    "\n",
    "# Consider function behaviour on a circular sequence\n",
    "print(motif_count_circular(circular_seq, motif_dict))\n"
   ]
  },
  {
   "cell_type": "code",
   "execution_count": null,
   "metadata": {
    "deletable": false,
    "editable": false,
    "nbgrader": {
     "cell_type": "code",
     "checksum": "db48e4879c4ce3449a34d649e41fe2c0",
     "grade": true,
     "grade_id": "T-2-2",
     "locked": true,
     "points": 15,
     "schema_version": 3,
     "solution": false,
     "task": false
    },
    "pycharm": {
     "name": "#%%\n"
    }
   },
   "outputs": [],
   "source": [
    "# --- AUTOGRADING CELL DO NOT EDIT ----\n"
   ]
  },
  {
   "cell_type": "markdown",
   "metadata": {
    "deletable": false,
    "editable": false,
    "nbgrader": {
     "cell_type": "markdown",
     "checksum": "510aba5333ff086a46a9736d0066d721",
     "grade": false,
     "grade_id": "cell-1543aef1d5fb074b",
     "locked": true,
     "schema_version": 3,
     "solution": false,
     "task": false
    },
    "pycharm": {
     "name": "#%% md\n"
    }
   },
   "source": [
    "## Part 3: Codon bias"
   ]
  },
  {
   "cell_type": "markdown",
   "metadata": {
    "deletable": false,
    "editable": false,
    "nbgrader": {
     "cell_type": "markdown",
     "checksum": "818788981e76dc42ab448803547827bf",
     "grade": false,
     "grade_id": "cell-67c6f5bd80774f35",
     "locked": true,
     "schema_version": 3,
     "solution": false,
     "task": false
    },
    "pycharm": {
     "name": "#%% md\n"
    }
   },
   "source": [
    "### Setup\n",
    "The frequency of occurrence of synonymous codons in coding DNA differs between species. Some codons that encode a particular amino acid are common, while other are rare. This is referred to as codon bias."
   ]
  },
  {
   "cell_type": "markdown",
   "metadata": {
    "deletable": false,
    "editable": false,
    "nbgrader": {
     "cell_type": "markdown",
     "checksum": "e6fed4b45d625ce44c23d59a7b4e31aa",
     "grade": false,
     "grade_id": "cell-6f6f64dde5a9d607",
     "locked": true,
     "schema_version": 3,
     "solution": false,
     "task": false
    },
    "pycharm": {
     "name": "#%% md\n"
    }
   },
   "source": [
    "### Questions"
   ]
  },
  {
   "cell_type": "markdown",
   "metadata": {
    "deletable": false,
    "editable": false,
    "nbgrader": {
     "cell_type": "markdown",
     "checksum": "5004e2ef46855899cf6bdf8140013af7",
     "grade": false,
     "grade_id": "cell-df128fe796c39fc2",
     "locked": true,
     "schema_version": 3,
     "solution": false,
     "task": false
    },
    "pycharm": {
     "name": "#%% md\n"
    }
   },
   "source": [
    "<div class=\"info\">\n",
    "    \n",
    "<h3>Question 3.1</h3>\n",
    "\n",
    "(10 marks)\n",
    "\n",
    "<b>Challenge:</b> Write a Python function to calculate the codon usage frequencies from a set of DNA coding sequences. \n",
    "\n",
    "Assume coding_seqs is a list of Bio.Seq.Seq objects. Assume the DNA sequences begin with a start codon, end with a stop codon and do not contain any introns. \n",
    "\n",
    "Return a 2D dictionary, where the keys are one-letter amino-acid strings and the values are dictionaries containing codon frequencies. The inner dictionaries must have DNA codon strings as keys and codon usage frequencies as values (floating-point numbers between 0 and 1). \n",
    "\n",
    "The codon usage frequency for a codon is the total number of occurrences of that codon divided by the total number of codons that code for the same amino acid. If coding_seqs is of length 0, return None.\n",
    "    \n",
    "</div>"
   ]
  },
  {
   "cell_type": "code",
   "execution_count": null,
   "metadata": {
    "deletable": false,
    "nbgrader": {
     "cell_type": "code",
     "checksum": "4b21eafd456ecb35280f409ee22cf0b2",
     "grade": false,
     "grade_id": "Q-3-1",
     "locked": false,
     "schema_version": 3,
     "solution": true,
     "task": false
    },
    "pycharm": {
     "name": "#%%\n"
    }
   },
   "outputs": [],
   "source": [
    "# GRADED CELL Question 3.1 (10 marks, max 1 min run-time)\n",
    "\n",
    "from collections import Counter\n",
    "from collections import defaultdict\n",
    "\n",
    "def codon_usage(coding_seqs):\n",
    "    \"\"\"\n",
    "    Calculate the codon usage frequencies from a set of DNA coding sequences. \n",
    "    Assume coding_seqs is a list of Bio.Seq.Seq objects. \n",
    "    Assume the DNA sequences begin with a start codon, end with a stop codon and do not contain any introns. \n",
    "    Return a 2D dictionary, where the keys are one-letter amino-acid strings and the values are dictionaries containing codon frequencies. \n",
    "    The inner dictionaries must have DNA codon strings as keys and codon usage frequencies as values (floating-point numbers between 0 and 1). \n",
    "    The codon usage frequency for a codon is the total number of occurrences of that codon divided by the total number of codons that code for the same amino acid. \n",
    "    If coding_seqs is of length 0, return None.\n",
    "    \"\"\"\n",
    "    \n",
    "   # YOUR CODE HERE\n",
    "   raise NotImplementedError()"
   ]
  },
  {
   "cell_type": "code",
   "execution_count": null,
   "metadata": {
    "pycharm": {
     "name": "#%%\n"
    }
   },
   "outputs": [],
   "source": [
    "# ~~ Test your function in this cell ~~\n",
    "demo_seqs = [Seq.Seq('ATGTCGTAA'), Seq.Seq('ATGTCCAAATAG')]\n",
    "\n",
    "sequence_a = Seq.Seq('ATGGCTGAAGCCGCATCCCCAGCTTTTATAGAGTATCTCCCACGATCTGACCCGTTGCTCTGTATTATACACAAGGTTGGAGTCGGATGTGAGTCTTCTCACCGGAGACCCAAGACATAG')\n",
    "sequence_b = Seq.Seq('ATGGTTCTCCTTTGGATCTTATTCGGCAAAAGCATCGCGGCGTCACTAGCTAGTTACGTTTTGAGGACGCTCGCAGATTCTGCCAACCAATCTTATACGAAAATACGGAGGCACGCGTAA')\n",
    "sequence_c = Seq.Seq('ATGCTAGTGATCCCGTCGTGGGCTAGAGAGCGGCGAGAGTGGGGTTTGGAAATTCGCGACATTGAGCCAACTATGGCTAATGCCATGGGCGGATTATGGGGGTCACTCAGAACTGTATAA')\n",
    "sequence_d = Seq.Seq('ATGCTACTTACCAAGAGATATCTTCTTAATACACTGATCCATAACGTCATTTCGCGGCTGAGATGGTGGGTGCATGAGCAAGTAATTGTGACTCCGCGGGTTTCGCCAAAGCAAACCTAA')\n",
    "seqs = [sequence_a, sequence_b, sequence_c, sequence_d]\n",
    "\n",
    "# Should return {'M':{'ATG':1.0}, 'S':{'TCG':0.5, 'TCC':0.5}, 'K':{'AAA':1.0}, '*':{'TAA':0.5, 'TAG':0.5}}\n",
    "print(codon_usage(demo_seqs)) \n",
    "\n",
    "#print(codon_usage(seqs))\n",
    "\n"
   ]
  },
  {
   "cell_type": "code",
   "execution_count": null,
   "metadata": {
    "deletable": false,
    "editable": false,
    "nbgrader": {
     "cell_type": "code",
     "checksum": "f87da65cabfead305af4b6ef79a99269",
     "grade": true,
     "grade_id": "T-3-1",
     "locked": true,
     "points": 10,
     "schema_version": 3,
     "solution": false,
     "task": false
    },
    "pycharm": {
     "name": "#%%\n"
    }
   },
   "outputs": [],
   "source": [
    "# --- AUTOGRADING CELL DO NOT EDIT ----\n"
   ]
  },
  {
   "cell_type": "markdown",
   "metadata": {
    "deletable": false,
    "editable": false,
    "nbgrader": {
     "cell_type": "markdown",
     "checksum": "c1856eb26348ea230ae04862dbba7549",
     "grade": false,
     "grade_id": "Q-3-2",
     "locked": true,
     "points": 10,
     "schema_version": 3,
     "solution": false,
     "task": true
    },
    "pycharm": {
     "name": "#%% md\n"
    }
   },
   "source": [
    "<div class=\"question\">\n",
    "    \n",
    "<b>Question 3.2</b>\n",
    "\n",
    "(10 marks, max 100 words)\n",
    "Viruses infect cells and use the molecular machinery of their host cell to replicate themselves.\n",
    "\n",
    "Explain why codon bias is an important factor in the potential transmission of RNA viruses between different species.\n",
    "\n",
    "</div>\n"
   ]
  },
  {
   "cell_type": "markdown",
   "metadata": {
    "pycharm": {
     "name": "#%% md\n"
    }
   },
   "source": [
    "#### -- GRADED CELL (10 marks) - complete this cell -- \n",
    "\n",
    "Codon bias, the preference for certain synonymous codons over others, can affect the transmission of RNA viruses between different species. If the codon usage of the virus differs from the host cell, it may result in a shortage of appropriate tRNAs, hindering replication (translating RNA into proteins). For instance, if an RNA virus adapted to the codon bias of rats infects humans, it may encounter a tRNA shortage, reducing its replication efficiency. However, if the virus mutates to adapt to the codon bias of the new host, it may increase its replication efficiency and potentially be transmitted more effectively."
   ]
  },
  {
   "cell_type": "markdown",
   "metadata": {
    "pycharm": {
     "name": "#%% md\n"
    }
   },
   "source": [
    "# END OF ASSIGNMENT"
   ]
  },
  {
   "cell_type": "markdown",
   "metadata": {
    "pycharm": {
     "name": "#%% md\n"
    }
   },
   "source": [
    "## Submitting\n",
    "\n",
    "Before you turn this assignment in, make sure everything runs as expected. First, **restart the kernel** (in the menubar, select Kernel$\\rightarrow$Restart) and then **run all cells** (in the menubar, select Cell$\\rightarrow$Run All).\n",
    "\n",
    "Make sure you have filled in any place that says `YOUR CODE HERE` or \"YOUR ANSWER HERE\"\n",
    "\n",
    "\n",
    "Your completed notebook file containing all your answers must be turned in via LMS in `.ipynb` format.\n",
    "You must also submit a copy of this notebook in `html` format with the output cleared.\n",
    "You can do this by using the `clear all output` option in the menu.\n",
    "\n",
    "Your submission should include **only two** files with names formatted as: **Assignment_1.ipynb** and **Assignment_1.html**\n"
   ]
  }
 ],
 "metadata": {
  "kernelspec": {
   "display_name": "Python 3 (ipykernel)",
   "language": "python",
   "name": "python3"
  },
  "language_info": {
   "codemirror_mode": {
    "name": "ipython",
    "version": 3
   },
   "file_extension": ".py",
   "mimetype": "text/x-python",
   "name": "python",
   "nbconvert_exporter": "python",
   "pygments_lexer": "ipython3",
   "version": "3.10.9"
  }
 },
 "nbformat": 4,
 "nbformat_minor": 4
}
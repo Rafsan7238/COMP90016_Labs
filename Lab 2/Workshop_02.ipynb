{
 "cells": [
  {
   "cell_type": "markdown",
   "metadata": {
    "pycharm": {
     "name": "#%% md\n"
    }
   },
   "source": [
    "# Workshop 2 - Quality control for sequencing data"
   ]
  },
  {
   "cell_type": "markdown",
   "metadata": {
    "pycharm": {
     "name": "#%% md\n"
    }
   },
   "source": [
    "<div class=\"info\">\n",
    "Suppose you had a biological question of interest that could be solved by sequencing. You've received some funding to perform a sequencing run (lucky you!). \n",
    "<br>\n",
    "<br>\n",
    "The sample is run in a sequencing machine (you know a few kinds of sequencers from the sequencing technologies lecture) and you are delivered a file containing all of your reads.\n",
    "<br>    \n",
    "<br>\n",
    "It's possible that there were problems, either with the sequencing reaction or with the starting materials. Before you perform your analysis and report your findings, you want to be sure that the data you have is of good quality. This is where quality control (QC) comes in.\n",
    "<br>\n",
    "<br>\n",
    "This week you will write your own code to perform QC on some real sequencing data.\n",
    "</div>"
   ]
  },
  {
   "cell_type": "markdown",
   "metadata": {
    "pycharm": {
     "name": "#%% md\n"
    }
   },
   "source": [
    "## Setup"
   ]
  },
  {
   "cell_type": "code",
   "execution_count": 1,
   "metadata": {
    "pycharm": {
     "name": "#%%\n"
    }
   },
   "outputs": [],
   "source": [
    "import os\n",
    "import requests\n",
    "from IPython.core.display import HTML\n",
    "\n",
    "# Handy function to fetch our datafile\n",
    "def fetch_file(url): \n",
    "    response = requests.get(url)\n",
    "    if response.status_code == 200:\n",
    "        print('File found!')\n",
    "        filename = os.path.basename(url).split('?', 1)[0]\n",
    "        with open(filename, 'wb') as f:\n",
    "            f.write(response.content)\n",
    "            f.close()\n",
    "        print(f'Saved to: {filename}')\n",
    "    else:\n",
    "        print('File not found')"
   ]
  },
  {
   "cell_type": "code",
   "execution_count": 2,
   "metadata": {
    "pycharm": {
     "name": "#%%\n"
    }
   },
   "outputs": [
    {
     "data": {
      "text/plain": "<IPython.core.display.HTML object>",
      "text/html": "<style>h1 {\n    border: 3.0px solid #333;\n    padding: 12px 18px;\n    background-color: #C8D3FD;\n}\n\nh2 {\n    padding: 12px 18px;\n    background-color: #C8D3FD;\n}\n\n.question {\n    color: rgb(0, 96, 100);\n    background: rgb(178, 235, 242);\n    border: solid 1px rgb(77, 208, 225);\n    padding: 10px;\n}\n\n.info {\n    color: rgb(27, 94, 32);\n    background: rgb(200, 230, 201);\n    border: solid 1px rgb(129, 199, 132);\n    padding: 10px;\n}\n\n</style>"
     },
     "execution_count": 2,
     "metadata": {},
     "output_type": "execute_result"
    }
   ],
   "source": [
    "# Make the notebook pretty\n",
    "HTML(requests.get('https://raw.githubusercontent.com/melbournebioinformatics/COMP90016/main/data/2023/style/custom.css').text)"
   ]
  },
  {
   "cell_type": "code",
   "execution_count": 3,
   "metadata": {
    "pycharm": {
     "name": "#%%\n"
    }
   },
   "outputs": [
    {
     "name": "stdout",
     "output_type": "stream",
     "text": [
      "File found!\n",
      "Saved to: ERR024571_1.fastq.gz\n",
      "File found!\n",
      "Saved to: ERR024571_selected.fastq.gz\n"
     ]
    }
   ],
   "source": [
    "# Fetch the Week One data\n",
    "url1 = 'https://github.com/melbournebioinformatics/COMP90016/blob/main/data/2023/Workshop_02/data/ERR024571_1.fastq.gz?raw=true'\n",
    "url2 = 'https://github.com/melbournebioinformatics/COMP90016/blob/main/data/2023/Workshop_02/data/ERR024571_selected.fastq.gz?raw=true'\n",
    "fetch_file(url1)\n",
    "fetch_file(url2)"
   ]
  },
  {
   "cell_type": "markdown",
   "metadata": {
    "pycharm": {
     "name": "#%% md\n"
    }
   },
   "source": [
    "## Task 0 - Getting set up for plotting in python"
   ]
  },
  {
   "cell_type": "markdown",
   "metadata": {
    "pycharm": {
     "name": "#%% md\n"
    }
   },
   "source": [
    "<div class=\"info\">\n",
    "There are three python libraries that we will be using to produce figures -  `numpy`, `pandas` and `matplotlib`.  \n",
    "\n",
    "\n",
    "`numpy` and `pandas` are used for data manipulation and processing, while `matplotlib` is used to plot and visualise your data.\n",
    "\n",
    "Check that they are installed by importing them.\n",
    "\n",
    "</div>"
   ]
  },
  {
   "cell_type": "code",
   "execution_count": 4,
   "metadata": {
    "pycharm": {
     "name": "#%%\n"
    }
   },
   "outputs": [],
   "source": [
    "import pandas as pd\n",
    "import numpy as np\n",
    "import matplotlib.pyplot as plt"
   ]
  },
  {
   "cell_type": "markdown",
   "metadata": {
    "pycharm": {
     "name": "#%% md\n"
    }
   },
   "source": [
    "<br>\n",
    "\n",
    "If you are new to `pandas`, this tutorial below will help. It is also available under the additional resources module on the LMS.\n",
    "> http://pandas.pydata.org/pandas-docs/stable/getting_started/10min.html\n",
    "\n",
    "We use the `matplotlib` library to create simple plots. You can learn more about `matplotlib` using the link below. The link is also available on the additional resources module on the LMS.\n",
    ">https://matplotlib.org/tutorials/introductory/usage.html#sphx-glr-tutorials-introductory-usage-py\n",
    "\n",
    "The following tutorial shows how `pandas`, `numpy` and `matplotlib` can be used together.\n",
    "> https://www.kaggle.com/chats351/introduction-to-numpy-pandas-and-matplotlib"
   ]
  },
  {
   "cell_type": "markdown",
   "metadata": {
    "pycharm": {
     "name": "#%% md\n"
    }
   },
   "source": [
    "## Task 1 - Reading in the read set"
   ]
  },
  {
   "cell_type": "markdown",
   "metadata": {
    "pycharm": {
     "name": "#%% md\n"
    }
   },
   "source": [
    "<div class=\"info\">\n",
    "First, we read in some sample reads. The reads in `ERR024571_selected.fastq` are a selection of 800 reads from the ERR024571 read set.\n",
    "\n",
    "Note that converting a readset into a list of `biopython` objects makes it easier to handle.\n",
    "\n",
    "The data originates from a *Yersinia enterocolitica* sample, a bacterial species that causes yersiniosis in humans.\n",
    "</div>\n"
   ]
  },
  {
   "cell_type": "code",
   "execution_count": 5,
   "metadata": {
    "pycharm": {
     "name": "#%%\n"
    }
   },
   "outputs": [
    {
     "name": "stdout",
     "output_type": "stream",
     "text": [
      "@IL27_4976:3:1:4720:965\r\n",
      "NACCACAGCCCGTTGGCCAACAGGTCAGCAAACTGTTTCAGAATACAGTATGCCAACGCTGGGGTAATGCTACCTGTTAGGC\r\n",
      "+IL27_4976:3:1:4720:965\r\n",
      "'1.1.:4:==@@@@@?=@>@;@>??>?>?@??>@????>;@>?@@;;??@;>?>@@?>,<>@:.::8@<4297&34IIIIII\r\n",
      "gunzip: error writing to output: Broken pipe\r\n",
      "gunzip: ERR024571_selected.fastq.gz: uncompress failed\r\n"
     ]
    }
   ],
   "source": [
    "# View the first fastq record (4 lines) in our compressed fastq file.\n",
    "!gunzip -c ERR024571_selected.fastq.gz | head -n 4"
   ]
  },
  {
   "cell_type": "code",
   "execution_count": 6,
   "metadata": {
    "pycharm": {
     "name": "#%%\n"
    }
   },
   "outputs": [],
   "source": [
    "import gzip\n",
    "from Bio import SeqIO"
   ]
  },
  {
   "cell_type": "code",
   "execution_count": 7,
   "metadata": {
    "pycharm": {
     "name": "#%%\n"
    }
   },
   "outputs": [],
   "source": [
    "fname = 'ERR024571_selected.fastq.gz' \n",
    "\n",
    "# Our fastq file is compressed using gzip. \n",
    "# We must open it before SeqIO can read the contents\n",
    "with gzip.open(fname, \"rt\") as handle:\n",
    "    readset = list(SeqIO.parse(handle, \"fastq\"))\n",
    "    \n",
    "# Note: If not compressed we could load the file as:\n",
    "#readset = list(SeqIO.parse('ERR024571_selected.fastq', format = 'fastq'))"
   ]
  },
  {
   "cell_type": "markdown",
   "metadata": {
    "pycharm": {
     "name": "#%% md\n"
    }
   },
   "source": [
    "<br>\n",
    "We can use the len function to find the number of reads in the readset."
   ]
  },
  {
   "cell_type": "code",
   "execution_count": 8,
   "metadata": {
    "pycharm": {
     "name": "#%%\n"
    }
   },
   "outputs": [
    {
     "data": {
      "text/plain": "800"
     },
     "execution_count": 8,
     "metadata": {},
     "output_type": "execute_result"
    }
   ],
   "source": [
    "len(readset)"
   ]
  },
  {
   "cell_type": "markdown",
   "metadata": {
    "pycharm": {
     "name": "#%% md\n"
    }
   },
   "source": [
    "And to find the length of the first read in the readset."
   ]
  },
  {
   "cell_type": "code",
   "execution_count": 9,
   "metadata": {
    "pycharm": {
     "name": "#%%\n"
    }
   },
   "outputs": [
    {
     "data": {
      "text/plain": "82"
     },
     "execution_count": 9,
     "metadata": {},
     "output_type": "execute_result"
    }
   ],
   "source": [
    "len(readset[0])"
   ]
  },
  {
   "cell_type": "code",
   "execution_count": 10,
   "metadata": {
    "pycharm": {
     "name": "#%%\n"
    }
   },
   "outputs": [
    {
     "data": {
      "text/plain": "SeqRecord(seq=Seq('NACCACAGCCCGTTGGCCAACAGGTCAGCAAACTGTTTCAGAATACAGTATGCC...GGC'), id='IL27_4976:3:1:4720:965', name='IL27_4976:3:1:4720:965', description='IL27_4976:3:1:4720:965', dbxrefs=[])"
     },
     "execution_count": 10,
     "metadata": {},
     "output_type": "execute_result"
    }
   ],
   "source": [
    "# SeqRecord object for the first read\n",
    "readset[0]"
   ]
  },
  {
   "cell_type": "markdown",
   "metadata": {
    "pycharm": {
     "name": "#%% md\n"
    }
   },
   "source": [
    "\n",
    "More can be read about these biopython objects here:\n",
    "> https://biopython.org/wiki/SeqRecord"
   ]
  },
  {
   "cell_type": "code",
   "execution_count": 11,
   "metadata": {
    "pycharm": {
     "name": "#%%\n"
    }
   },
   "outputs": [
    {
     "data": {
      "text/plain": "[6,\n 16,\n 13,\n 16,\n 13,\n 25,\n 19,\n 25,\n 28,\n 28,\n 31,\n 31,\n 31,\n 31,\n 31,\n 30,\n 28,\n 31,\n 29,\n 31,\n 26,\n 31,\n 29,\n 30,\n 30,\n 29,\n 30,\n 29,\n 30,\n 31,\n 30,\n 30,\n 29,\n 31,\n 30,\n 30,\n 30,\n 30,\n 29,\n 26,\n 31,\n 29,\n 30,\n 31,\n 31,\n 26,\n 26,\n 30,\n 30,\n 31,\n 26,\n 29,\n 30,\n 29,\n 31,\n 31,\n 30,\n 29,\n 11,\n 27,\n 29,\n 31,\n 25,\n 13,\n 25,\n 25,\n 23,\n 31,\n 27,\n 19,\n 17,\n 24,\n 22,\n 5,\n 18,\n 19,\n 40,\n 40,\n 40,\n 40,\n 40,\n 40]"
     },
     "execution_count": 11,
     "metadata": {},
     "output_type": "execute_result"
    }
   ],
   "source": [
    "# Access the per-base phred scores\n",
    "readset[0].letter_annotations[\"phred_quality\"]"
   ]
  },
  {
   "cell_type": "markdown",
   "metadata": {
    "pycharm": {
     "name": "#%% md\n"
    }
   },
   "source": [
    "### How to we encode quality scores? \n",
    "\n",
    "The quality scores in a typical fastq file are stored in `Phred 33` format. \n",
    "This means that we encode the quality score with an ASCII character that is equal to Quality Score + 33\n",
    "\n",
    "You can view the [ASCII table here](https://www.asciitable.com/)"
   ]
  },
  {
   "cell_type": "code",
   "execution_count": 12,
   "metadata": {
    "pycharm": {
     "name": "#%%\n"
    }
   },
   "outputs": [
    {
     "data": {
      "text/plain": "63"
     },
     "execution_count": 12,
     "metadata": {},
     "output_type": "execute_result"
    }
   ],
   "source": [
    "# Find the ASCII code for a character\n",
    "ord('?')"
   ]
  },
  {
   "cell_type": "code",
   "execution_count": 13,
   "metadata": {
    "pycharm": {
     "name": "#%%\n"
    }
   },
   "outputs": [
    {
     "data": {
      "text/plain": "'?'"
     },
     "execution_count": 13,
     "metadata": {},
     "output_type": "execute_result"
    }
   ],
   "source": [
    "# Convert code into character\n",
    "chr(63)"
   ]
  },
  {
   "cell_type": "code",
   "execution_count": 14,
   "metadata": {
    "pycharm": {
     "name": "#%%\n"
    }
   },
   "outputs": [
    {
     "name": "stdout",
     "output_type": "stream",
     "text": [
      "'1.1.:4:==@@@@@?=@>@;@>??>?>?@??>@????>;@>?@@;;??@;>?>@@?>,<>@:.::8@<4297&34IIIIII\n"
     ]
    }
   ],
   "source": [
    "# We can use chr() to show the ASCII characters for our phred scores\n",
    "# Note: We must first add 33 to the score\n",
    "phred = ''.join([chr(x+33) for x in readset[0].letter_annotations[\"phred_quality\"]])\n",
    "\n",
    "print(phred)"
   ]
  },
  {
   "cell_type": "markdown",
   "metadata": {
    "pycharm": {
     "name": "#%% md\n"
    }
   },
   "source": [
    "Just for fun, we can map the Phred scores (ASCII characters) onto emojis."
   ]
  },
  {
   "cell_type": "code",
   "execution_count": 15,
   "metadata": {
    "pycharm": {
     "name": "#%%\n"
    }
   },
   "outputs": [
    {
     "name": "stdout",
     "output_type": "stream",
     "text": [
      "Collecting fastqe\r\n",
      "  Downloading fastqe-0.2.7-py3-none-any.whl (13 kB)\r\n",
      "Requirement already satisfied: biopython>=1.66 in /Users/rafsanalmamun/miniforge3/envs/latest/lib/python3.10/site-packages (from fastqe) (1.81)\r\n",
      "Collecting pyemojify\r\n",
      "  Downloading pyemojify-0.2.0-py2.py3-none-any.whl (12 kB)\r\n",
      "Requirement already satisfied: numpy in /Users/rafsanalmamun/miniforge3/envs/latest/lib/python3.10/site-packages (from biopython>=1.66->fastqe) (1.23.4)\r\n",
      "Collecting click>=4.1\r\n",
      "  Downloading click-8.1.3-py3-none-any.whl (96 kB)\r\n",
      "\u001B[2K     \u001B[90m━━━━━━━━━━━━━━━━━━━━━━━━━━━━━━━━━━━━━━━━\u001B[0m \u001B[32m96.6/96.6 kB\u001B[0m \u001B[31m7.7 MB/s\u001B[0m eta \u001B[36m0:00:00\u001B[0m\r\n",
      "\u001B[?25hInstalling collected packages: click, pyemojify, fastqe\r\n",
      "Successfully installed click-8.1.3 fastqe-0.2.7 pyemojify-0.2.0\r\n"
     ]
    }
   ],
   "source": [
    "! pip install fastqe\n",
    "#conda install -c bioconda fastqe\n",
    "from pyemojify.emoji import emoji_table\n",
    "from fastqe.fastqe_map import fastq_emoji_map, fastq_emoji_map_binned"
   ]
  },
  {
   "cell_type": "code",
   "execution_count": 16,
   "metadata": {
    "pycharm": {
     "name": "#%%\n"
    }
   },
   "outputs": [
    {
     "name": "stdout",
     "output_type": "stream",
     "text": [
      "💀💩💩💩💩😄💩😄😄😄😆😆😆😆😆😆😄😆😄😆😄😆😄😆😆😄😆😄😆😆😆😆😄😆😆😆😆😆😄😄😆😄😆😆😆😄😄😆😆😆😄😄😆😄😆😆😆😄💩😄😄😆😄💩😄😄⚠️😆😄💩💩⚠️⚠️💀💩💩😍😍😍😍😍😍\n"
     ]
    }
   ],
   "source": [
    "# Map ASCII to emoji text \n",
    "emoji_text = [fastq_emoji_map_binned[x] for x in phred]\n",
    "\n",
    "# Map emoji text to unicode symbol\n",
    "emoji_list = [emoji_table[x] for x in emoji_text]\n",
    "\n",
    "# Print emoji list as string\n",
    "print(''.join(emoji_list))\n"
   ]
  },
  {
   "cell_type": "markdown",
   "metadata": {
    "deletable": false,
    "editable": false,
    "nbgrader": {
     "cell_type": "markdown",
     "checksum": "1e0b3cd7e36921514c98a453d9437ad5",
     "grade": false,
     "grade_id": "T1-1",
     "locked": true,
     "points": 1,
     "schema_version": 3,
     "solution": false,
     "task": true
    },
    "pycharm": {
     "name": "#%% md\n"
    }
   },
   "source": [
    "<div class=\"question\">\n",
    "Why do we add 33 to the quality score to get the ASCII encoding?\n",
    "</div>\n"
   ]
  },
  {
   "cell_type": "markdown",
   "metadata": {
    "pycharm": {
     "name": "#%% md\n"
    }
   },
   "source": [
    "### What are Q scores?\n",
    "\n",
    "We refer to the sequencing quality score of a given base as its \"Q\" score. \n",
    "\n",
    "Q is defined by the following equation where 'e' is the error rate:\n",
    "\n",
    "`Q = -10log10(e)`\n",
    "\n",
    "To calculate the error rate (e) for a given value Q we can rearrange this formula:\n",
    "\n",
    "`e = 10^(-Q/10)`"
   ]
  },
  {
   "cell_type": "code",
   "execution_count": 17,
   "metadata": {
    "pycharm": {
     "name": "#%%\n"
    }
   },
   "outputs": [],
   "source": [
    "import math"
   ]
  },
  {
   "cell_type": "code",
   "execution_count": 18,
   "metadata": {
    "pycharm": {
     "name": "#%%\n"
    }
   },
   "outputs": [
    {
     "name": "stdout",
     "output_type": "stream",
     "text": [
      "Q of 20 is equivalent to an error rate of 1 error in 100 bases.\n",
      "Q20 corresponds to an Accuracy of 99.0%\n"
     ]
    }
   ],
   "source": [
    "# Set the Q-score (try changing this number)\n",
    "Q = 20\n",
    "\n",
    "# Calculate the corresponding error rate\n",
    "e = math.pow(10, -Q/10)\n",
    "\n",
    "# Convert error rate to percentage Accuracy\n",
    "A= ((1/e)-1)/(1/e) * 100\n",
    "\n",
    "\n",
    "print(f'Q of {Q} is equivalent to an error rate of 1 error in {int(1/e)} bases.')\n",
    "\n",
    "print(f'Q{Q} corresponds to an Accuracy of {A}%')"
   ]
  },
  {
   "cell_type": "markdown",
   "metadata": {
    "pycharm": {
     "name": "#%% md\n"
    }
   },
   "source": [
    "## Task 2 - Compute per-sequence quality scores"
   ]
  },
  {
   "cell_type": "markdown",
   "metadata": {
    "pycharm": {
     "name": "#%% md\n"
    }
   },
   "source": [
    "The per-sequence quality is simply the average of the base quality scores in a sequence."
   ]
  },
  {
   "cell_type": "code",
   "execution_count": 19,
   "metadata": {
    "pycharm": {
     "name": "#%%\n"
    }
   },
   "outputs": [
    {
     "data": {
      "text/plain": "   quality\n0        6\n1       16\n2       13\n3       16\n4       13\n5       25\n6       19\n7       25\n8       28\n9       28",
      "text/html": "<div>\n<style scoped>\n    .dataframe tbody tr th:only-of-type {\n        vertical-align: middle;\n    }\n\n    .dataframe tbody tr th {\n        vertical-align: top;\n    }\n\n    .dataframe thead th {\n        text-align: right;\n    }\n</style>\n<table border=\"1\" class=\"dataframe\">\n  <thead>\n    <tr style=\"text-align: right;\">\n      <th></th>\n      <th>quality</th>\n    </tr>\n  </thead>\n  <tbody>\n    <tr>\n      <th>0</th>\n      <td>6</td>\n    </tr>\n    <tr>\n      <th>1</th>\n      <td>16</td>\n    </tr>\n    <tr>\n      <th>2</th>\n      <td>13</td>\n    </tr>\n    <tr>\n      <th>3</th>\n      <td>16</td>\n    </tr>\n    <tr>\n      <th>4</th>\n      <td>13</td>\n    </tr>\n    <tr>\n      <th>5</th>\n      <td>25</td>\n    </tr>\n    <tr>\n      <th>6</th>\n      <td>19</td>\n    </tr>\n    <tr>\n      <th>7</th>\n      <td>25</td>\n    </tr>\n    <tr>\n      <th>8</th>\n      <td>28</td>\n    </tr>\n    <tr>\n      <th>9</th>\n      <td>28</td>\n    </tr>\n  </tbody>\n</table>\n</div>"
     },
     "execution_count": 19,
     "metadata": {},
     "output_type": "execute_result"
    }
   ],
   "source": [
    "# Extract quality scores for the first read\n",
    "r1_meta = readset[0].letter_annotations[\"phred_quality\"]\n",
    "\n",
    "# Convert the list of quality scores to a pandas dataframe\n",
    "r1_meta = pd.DataFrame(r1_meta, columns = ['quality'])\n",
    "\n",
    "# Display the quality scores for the first 10 bases\n",
    "r1_meta.head(10)"
   ]
  },
  {
   "cell_type": "markdown",
   "metadata": {
    "pycharm": {
     "name": "#%% md\n"
    }
   },
   "source": [
    "### Crash course on `pandas` and `numpy`\n",
    "\n",
    "The output of the code above is a data frame object. Most data can be stored in data frames and there are many functions to process them available in the `pandas` library. \n",
    "\n",
    "The `numpy` library stores data in `numpy` arrays, which can range from being one-dimensional vectors or multi-dimensional matrices. A `pandas` data frame is equivalent to a 2-dimensional `numpy` array with named rows and columns. While `numpy` arrays are more memory efficient, `pandas` dataframes have other advantages such as named rows and columns.\n",
    "\n",
    "We will first try out a few indexing operations.\n"
   ]
  },
  {
   "cell_type": "code",
   "execution_count": 20,
   "metadata": {
    "pycharm": {
     "name": "#%%\n"
    }
   },
   "outputs": [
    {
     "name": "stdout",
     "output_type": "stream",
     "text": [
      "   quality\n",
      "0        6\n",
      "1       16\n",
      "2       13\n",
      "   quality\n",
      "0        6\n",
      "1       16\n",
      "2       13\n",
      "   quality\n",
      "0        6\n",
      "1       16\n",
      "2       13\n",
      "   quality\n",
      "0        6\n",
      "1       16\n",
      "2       13\n"
     ]
    }
   ],
   "source": [
    "import pandas as pd\n",
    "import numpy as np\n",
    "\n",
    "# All of these indexes give the same results. Think of the data frame as a 2-D matrix.\n",
    "# Here we retrieve data using .iloc\n",
    "\n",
    "print(r1_meta.iloc[:3,])\n",
    "print(r1_meta.iloc[0:3, 0:1])\n",
    "print(r1_meta.iloc[0:3, :])\n",
    "print(r1_meta.iloc[0:3,])"
   ]
  },
  {
   "cell_type": "markdown",
   "metadata": {
    "pycharm": {
     "name": "#%% md\n"
    }
   },
   "source": [
    "Above we use positional information along the data frame (i.e. rows 0:3 and column 0:1). \n",
    "\n",
    "Instead, we can index rows and columns using *row names* and *column names* with `pandas`. \n",
    "In the example below, 0:2 refers to the rows with names '0', '1', and '2' and the column with the name 'quality'. \n",
    "\n"
   ]
  },
  {
   "cell_type": "code",
   "execution_count": 21,
   "metadata": {
    "pycharm": {
     "name": "#%%\n"
    }
   },
   "outputs": [
    {
     "name": "stdout",
     "output_type": "stream",
     "text": [
      "0     6\n",
      "1    16\n",
      "2    13\n",
      "Name: quality, dtype: int64\n"
     ]
    }
   ],
   "source": [
    "# Here we retrieve data using names with loc. 0, 1, and 2 are row names rather than indexes.\n",
    "print(r1_meta.loc[0:2, 'quality'])"
   ]
  },
  {
   "cell_type": "markdown",
   "metadata": {
    "pycharm": {
     "name": "#%% md\n"
    }
   },
   "source": [
    "Because we selected just one column a one-dimensional vector was returned. \n",
    "\n",
    "When using `pandas` this object is called a `pandas` series, which is equivalent to a one-dimensional `numpy` array."
   ]
  },
  {
   "cell_type": "code",
   "execution_count": 22,
   "metadata": {
    "pycharm": {
     "name": "#%%\n"
    }
   },
   "outputs": [
    {
     "name": "stdout",
     "output_type": "stream",
     "text": [
      "<class 'pandas.core.series.Series'>\n",
      "<class 'numpy.ndarray'>\n"
     ]
    }
   ],
   "source": [
    "print(type(r1_meta.loc[0:2, 'quality']))\n",
    "print(type(np.asarray(r1_meta.loc[0:2, 'quality'])))"
   ]
  },
  {
   "cell_type": "markdown",
   "metadata": {
    "pycharm": {
     "name": "#%% md\n"
    }
   },
   "source": [
    "<br>\n",
    "\n",
    "If we retrieve the entire `quality` column, we can subset it obtain the base quality at any position."
   ]
  },
  {
   "cell_type": "code",
   "execution_count": 23,
   "metadata": {
    "pycharm": {
     "name": "#%%\n"
    }
   },
   "outputs": [
    {
     "data": {
      "text/plain": "13"
     },
     "execution_count": 23,
     "metadata": {},
     "output_type": "execute_result"
    }
   ],
   "source": [
    "# Retrieve the base quality at position 3. Remember that Python is zero indexed!\n",
    "r1_qualities = r1_meta.loc[:, 'quality']\n",
    "r1_qualities[2]"
   ]
  },
  {
   "cell_type": "markdown",
   "metadata": {
    "pycharm": {
     "name": "#%% md\n"
    }
   },
   "source": [
    "### Now to compute the quality of a sequence"
   ]
  },
  {
   "cell_type": "markdown",
   "metadata": {
    "pycharm": {
     "name": "#%% md\n"
    }
   },
   "source": [
    "\n",
    "<div class=\"info\">\n",
    "    \n",
    "<b>Challenge:</b> \n",
    "Write a function to compute the mean quality of a given `Bio.SeqRecord` object using a for loop and the `letter_annotations[\"phred_quality\"]` attribute.\n",
    "\n",
    "</div>\n"
   ]
  },
  {
   "cell_type": "code",
   "execution_count": null,
   "metadata": {
    "deletable": false,
    "nbgrader": {
     "cell_type": "code",
     "checksum": "bf61defcba568681f26b8ed4e852fc45",
     "grade": false,
     "grade_id": "C2-1",
     "locked": false,
     "schema_version": 3,
     "solution": true,
     "task": false
    },
    "pycharm": {
     "name": "#%%\n"
    }
   },
   "outputs": [],
   "source": [
    "def read_quality_with_loop(read):\n",
    "    \"\"\"\n",
    "    Compute the quality of a given read (DNA sequence).\n",
    "    This is the average of base qualities.\n",
    "    Return a single floating point number.\n",
    "    \"\"\"\n",
    "    \n",
    "    # YOUR CODE HERE\n",
    "    raise NotImplementedError()"
   ]
  },
  {
   "cell_type": "code",
   "execution_count": null,
   "metadata": {
    "pycharm": {
     "name": "#%%\n"
    }
   },
   "outputs": [],
   "source": [
    "print(read_quality_with_loop(readset[0])) # should give 27.36\n",
    "print(read_quality_with_loop(readset[2])) # should give 26.35"
   ]
  },
  {
   "cell_type": "markdown",
   "metadata": {
    "pycharm": {
     "name": "#%% md\n"
    }
   },
   "source": [
    "\n",
    "<div class=\"info\">\n",
    "<b>Challenge:</b> Using functions from within the `numpy` library can be simpler to write and run considerably faster. \n",
    "\n",
    "Try computing the sequence quality of a given sequence **without** a for loop, using the `np.mean()` function.\n",
    "</div>"
   ]
  },
  {
   "cell_type": "code",
   "execution_count": 29,
   "metadata": {
    "deletable": false,
    "nbgrader": {
     "cell_type": "code",
     "checksum": "0002979b3a3dba758d6e54f96935a0df",
     "grade": false,
     "grade_id": "C2-2",
     "locked": false,
     "schema_version": 3,
     "solution": true,
     "task": false
    },
    "pycharm": {
     "name": "#%%\n"
    }
   },
   "outputs": [],
   "source": [
    "def read_quality(read):\n",
    "    \"\"\"\n",
    "    Compute the quality of a given read (DNA sequence).\n",
    "    This is the average of base qualities.\n",
    "    Return a single number representing the quality\n",
    "    \"\"\"\n",
    "    # YOUR CODE HERE\n",
    "    return np.mean(read.letter_annotations[\"phred_quality\"])"
   ]
  },
  {
   "cell_type": "code",
   "execution_count": 30,
   "metadata": {
    "pycharm": {
     "name": "#%%\n"
    }
   },
   "outputs": [
    {
     "name": "stdout",
     "output_type": "stream",
     "text": [
      "27.365853658536587\n"
     ]
    }
   ],
   "source": [
    "print(read_quality(readset[0])) # should also give 27.36"
   ]
  },
  {
   "cell_type": "markdown",
   "metadata": {
    "pycharm": {
     "name": "#%% md\n"
    }
   },
   "source": [
    "## Task 3 - Compute and visualise the per-sequence quality distribution"
   ]
  },
  {
   "cell_type": "markdown",
   "metadata": {
    "pycharm": {
     "name": "#%% md\n"
    }
   },
   "source": [
    "<div class=\"info\">\n",
    "We will compute per-sequence qualities for all reads and compute a sequence quality histogram. A histogram visualises the distribution of data by binning the data values into intervals of equal widths and visualising the frequency of values in each bin. \n",
    "\n",
    "    \n",
    "  \n",
    "First, you should divide the range of values into equal intervals. These intervals should be non-overlapping integers. Here we would like bins with a width of 1.  \n",
    "i.e. For a given integer \\$i\\$, the interval (bin) should be \\$[i, i + 1)\\$. This means including \\$i\\$ but excluding \\$i + 1\\$.\n",
    "\n",
    "\n",
    "Second, you need to count up the frequency of values that fall into each bin. We can represent this histogram data as a dictionary. Keys in the dictionary will be \\$i\\$ and the values will be the total number of quality scores that fall in the interval \\$[i, i + 1)\\$.\n",
    "\n",
    "</div>"
   ]
  },
  {
   "cell_type": "markdown",
   "metadata": {
    "pycharm": {
     "name": "#%% md\n"
    }
   },
   "source": [
    "When defining your bins, the `np.floor()` function can be be used to round down quality scores to the nearest integer.\n"
   ]
  },
  {
   "cell_type": "code",
   "execution_count": 26,
   "metadata": {
    "pycharm": {
     "name": "#%%\n"
    }
   },
   "outputs": [
    {
     "name": "stdout",
     "output_type": "stream",
     "text": [
      "30.0\n",
      "30.0\n"
     ]
    }
   ],
   "source": [
    "print(np.floor(30.01))\n",
    "print(np.floor(30.99))"
   ]
  },
  {
   "cell_type": "markdown",
   "metadata": {
    "pycharm": {
     "name": "#%% md\n"
    }
   },
   "source": [
    "<div class=\"info\">\n",
    "\n",
    "<b>Challenge:</b>  \n",
    "\n",
    "- Write a function that takes as input a list of `SeqRecord` objects. \n",
    "- Calculate the mean Q-score for each read. Comput bin intervals. \n",
    "- Return a dictionary with bin intervals as keys and read frequencies as values.\n",
    "\n",
    "\n",
    "</div>"
   ]
  },
  {
   "cell_type": "code",
   "execution_count": 33,
   "metadata": {
    "deletable": false,
    "nbgrader": {
     "cell_type": "code",
     "checksum": "8c3726ed0206e93fc8149501f43ac5ac",
     "grade": false,
     "grade_id": "C3-1",
     "locked": false,
     "schema_version": 3,
     "solution": true,
     "task": false
    },
    "pycharm": {
     "name": "#%%\n"
    }
   },
   "outputs": [],
   "source": [
    "def read_histogram_dict(reads):\n",
    "    \"\"\"\n",
    "    Compute a dictionary representing the histogram\n",
    "    Keys are the starting point of the interval\n",
    "    Values are the number of items in the interval\n",
    "    \"\"\"\n",
    "    \n",
    "    # YOUR CODE HERE\n",
    "\n",
    "    scores = []\n",
    "    hist_dict = dict()\n",
    "\n",
    "    for read in reads:\n",
    "        scores.append(np.floor(read_quality(read)))\n",
    "\n",
    "    for score in scores:\n",
    "        hist_dict[score] = hist_dict.get(score, 0) + 1\n",
    "    \n",
    "    return hist_dict"
   ]
  },
  {
   "cell_type": "code",
   "execution_count": 34,
   "metadata": {
    "pycharm": {
     "name": "#%%\n"
    }
   },
   "outputs": [
    {
     "data": {
      "text/plain": "{27.0: 2, 28.0: 1, 26.0: 1}"
     },
     "execution_count": 34,
     "metadata": {},
     "output_type": "execute_result"
    }
   ],
   "source": [
    "read_histogram_dict(readset[0:4]) # should give {27.0: 2, 28.0: 1, 26.0: 1}"
   ]
  },
  {
   "cell_type": "markdown",
   "metadata": {
    "pycharm": {
     "name": "#%% md\n"
    }
   },
   "source": [
    "<br>\n",
    "\n",
    "Now that we have the histogram data as a dictionary, let's get to plotting! \n"
   ]
  },
  {
   "cell_type": "code",
   "execution_count": 35,
   "metadata": {
    "pycharm": {
     "name": "#%%\n"
    }
   },
   "outputs": [
    {
     "data": {
      "text/plain": "<Figure size 640x480 with 1 Axes>",
      "image/png": "[encoded data removed]"
     },
     "metadata": {},
     "output_type": "display_data"
    }
   ],
   "source": [
    "%matplotlib inline\n",
    "import matplotlib.pyplot as plt\n",
    "\n",
    "hist_data = read_histogram_dict(readset)\n",
    "plt.scatter(hist_data.keys(), hist_data.values())\n",
    "plt.xlabel('Phred quality score')\n",
    "plt.ylabel('Frequency')\n",
    "plt.show()"
   ]
  },
  {
   "cell_type": "markdown",
   "metadata": {
    "pycharm": {
     "name": "#%% md\n"
    }
   },
   "source": [
    "<br>\n",
    "\n",
    "Alternatively, you could directly use the `plt.hist()` function in `matplotlib`.\n",
    "\n",
    "This function takes the data values you want to bin, and the intervals you want to put them in. But you should provide the bins in order with `sorted()`.\n"
   ]
  },
  {
   "cell_type": "code",
   "execution_count": 36,
   "metadata": {
    "pycharm": {
     "name": "#%%\n"
    }
   },
   "outputs": [
    {
     "data": {
      "text/plain": "<Figure size 640x480 with 1 Axes>",
      "image/png": "[encoded data removed]"
     },
     "metadata": {},
     "output_type": "display_data"
    }
   ],
   "source": [
    "%matplotlib inline\n",
    "import matplotlib.pyplot as plt\n",
    "\n",
    "# Get the read qualities\n",
    "read_qualities = [read_quality(r) for r in readset]\n",
    "\n",
    "# Define the intervals [i,i+1)\n",
    "distribution_keys = [np.floor(r) for r in read_qualities]\n",
    "\n",
    "# Include the upper bound of the last interval\n",
    "# distribution_keys.append(max(sorted(distribution_keys))+1)\n",
    "\n",
    "# Plot\n",
    "plt.hist(read_qualities, sorted(distribution_keys))\n",
    "plt.xlabel('Phred quality score')\n",
    "plt.ylabel('Frequency')\n",
    "plt.show()"
   ]
  },
  {
   "cell_type": "markdown",
   "metadata": {
    "pycharm": {
     "name": "#%% md\n"
    }
   },
   "source": [
    "<br>\n",
    "\n",
    "We can also change the colour, overlay lines, and edit the appearance of the plot. \n",
    "\n",
    "Change some of the arguments (`fontsize`, `labelpad` or `color`) below to see what effect they have."
   ]
  },
  {
   "cell_type": "code",
   "execution_count": 37,
   "metadata": {
    "pycharm": {
     "name": "#%%\n"
    }
   },
   "outputs": [
    {
     "data": {
      "text/plain": "<Figure size 640x480 with 1 Axes>",
      "image/png": "[encoded data removed]"
     },
     "metadata": {},
     "output_type": "display_data"
    }
   ],
   "source": [
    "%matplotlib inline\n",
    "import matplotlib.pyplot as plt\n",
    "\n",
    "# Plot\n",
    "plt.hist(read_qualities, sorted(distribution_keys), color=\"skyblue\")\n",
    "plt.xlabel('Phred quality score', fontsize=14)\n",
    "plt.ylabel('Frequency', fontsize=14, labelpad=12)\n",
    "plt.axvline(x=20,linewidth=1, color='r')\n",
    "plt.show()"
   ]
  },
  {
   "cell_type": "markdown",
   "metadata": {
    "pycharm": {
     "name": "#%% md\n"
    }
   },
   "source": [
    "<br>\n",
    "\n",
    "You can also make other plot types, like boxplots."
   ]
  },
  {
   "cell_type": "code",
   "execution_count": 38,
   "metadata": {
    "pycharm": {
     "name": "#%%\n"
    }
   },
   "outputs": [
    {
     "data": {
      "text/plain": "<Figure size 640x480 with 1 Axes>",
      "image/png": "[encoded data removed]"
     },
     "metadata": {},
     "output_type": "display_data"
    }
   ],
   "source": [
    "%matplotlib inline\n",
    "import matplotlib.pyplot as plt\n",
    "\n",
    "# Plot\n",
    "plt.boxplot(read_qualities, vert=False)\n",
    "plt.xlabel('Phred quality score', fontsize=14, labelpad=12)\n",
    "plt.yticks([])\n",
    "plt.show()"
   ]
  },
  {
   "cell_type": "markdown",
   "metadata": {
    "pycharm": {
     "name": "#%% md\n"
    }
   },
   "source": [
    "<br>\n",
    "\n",
    "The documentation for these functions can be found here:\n",
    "> https://matplotlib.org/stable/api/_as_gen/matplotlib.pyplot.scatter.html\n",
    "\n",
    "> https://matplotlib.org/stable/api/_as_gen/matplotlib.pyplot.hist.html\n",
    "\n",
    "> https://matplotlib.org/3.1.1/api/_as_gen/matplotlib.pyplot.boxplot.html\n",
    "\n",
    "A list of colour names can be found here:\n",
    "> https://matplotlib.org/stable/gallery/color/named_colors.html"
   ]
  },
  {
   "cell_type": "markdown",
   "metadata": {
    "pycharm": {
     "name": "#%% md\n"
    }
   },
   "source": [
    "## Task 4 - Using FastQC for quality control"
   ]
  },
  {
   "cell_type": "markdown",
   "metadata": {
    "pycharm": {
     "name": "#%% md\n"
    }
   },
   "source": [
    "<div class=\"info\">\n",
    "The above analysis and more can be performed using the [FastQC tool](https://www.bioinformatics.babraham.ac.uk/projects/fastqc/). \n",
    "\n",
    "\n",
    "If you wish to install FastQC on a (Mac or Linux) personal device, use the conda command `conda install -c bioconda fastqc`.\n",
    "\n",
    "\n",
    "The documentation for FastQC can be found here:\n",
    "> https://www.bioinformatics.babraham.ac.uk/projects/fastqc/\n",
    "\n",
    "</div>"
   ]
  },
  {
   "cell_type": "markdown",
   "metadata": {
    "pycharm": {
     "name": "#%% md\n"
    }
   },
   "source": [
    "**Please execute the command below to run FastQC.**"
   ]
  },
  {
   "cell_type": "code",
   "execution_count": 39,
   "metadata": {
    "pycharm": {
     "name": "#%%\n"
    }
   },
   "outputs": [
    {
     "name": "stdout",
     "output_type": "stream",
     "text": [
      "application/octet-stream\r\n",
      "Started analysis of ERR024571_1.fastq.gz\r\n",
      "Approx 5% complete for ERR024571_1.fastq.gz\r\n",
      "Approx 10% complete for ERR024571_1.fastq.gz\r\n",
      "Approx 15% complete for ERR024571_1.fastq.gz\r\n",
      "Approx 20% complete for ERR024571_1.fastq.gz\r\n",
      "Approx 25% complete for ERR024571_1.fastq.gz\r\n",
      "Approx 30% complete for ERR024571_1.fastq.gz\r\n",
      "Approx 35% complete for ERR024571_1.fastq.gz\r\n",
      "Approx 40% complete for ERR024571_1.fastq.gz\r\n",
      "Approx 45% complete for ERR024571_1.fastq.gz\r\n",
      "Approx 50% complete for ERR024571_1.fastq.gz\r\n",
      "Approx 55% complete for ERR024571_1.fastq.gz\r\n",
      "Approx 60% complete for ERR024571_1.fastq.gz\r\n",
      "Approx 65% complete for ERR024571_1.fastq.gz\r\n",
      "Approx 70% complete for ERR024571_1.fastq.gz\r\n",
      "Approx 75% complete for ERR024571_1.fastq.gz\r\n",
      "Approx 80% complete for ERR024571_1.fastq.gz\r\n",
      "Approx 85% complete for ERR024571_1.fastq.gz\r\n",
      "Approx 90% complete for ERR024571_1.fastq.gz\r\n",
      "Approx 95% complete for ERR024571_1.fastq.gz\r\n",
      "Analysis complete for ERR024571_1.fastq.gz\r\n",
      "Warning: the fonts \"Times\" and \"Times\" are not available for the Java logical font \"Serif\", which may have unexpected appearance or behavior. Re-enable the \"Times\" font to remove this warning.\r\n"
     ]
    }
   ],
   "source": [
    "# Run FastQC on the ERR024571_1 dataset.\n",
    "!fastqc -o ./ ERR024571_1.fastq.gz"
   ]
  },
  {
   "cell_type": "markdown",
   "metadata": {
    "pycharm": {
     "name": "#%% md\n"
    }
   },
   "source": [
    "Open the ERR024571_1_fastqc.html file to see the FastQC report."
   ]
  },
  {
   "cell_type": "markdown",
   "metadata": {
    "pycharm": {
     "name": "#%% md\n"
    }
   },
   "source": [
    "\n",
    "###  What does this all mean?\n",
    "\n",
    "The report provides information about several QC metrics.\n",
    "\n",
    "You should refer to this documentation to help you figure out what some of the metrics mean: \n",
    ">https://www.bioinformatics.babraham.ac.uk/projects/fastqc/\n",
    "\n",
    "\n",
    "There is also a FastQC report explanation video on the LMS in the week 2 module.\n",
    "\n"
   ]
  },
  {
   "cell_type": "markdown",
   "metadata": {
    "deletable": false,
    "editable": false,
    "nbgrader": {
     "cell_type": "markdown",
     "checksum": "689e8eb121452994df81beff35af2de2",
     "grade": false,
     "grade_id": "Q4-1",
     "locked": true,
     "points": 1,
     "schema_version": 3,
     "solution": false,
     "task": true
    },
    "pycharm": {
     "name": "#%% md\n"
    }
   },
   "source": [
    "<div class=\"question\">\n",
    "1. How many reads are in the read set?\n",
    "</div>\n"
   ]
  },
  {
   "cell_type": "markdown",
   "metadata": {
    "pycharm": {
     "name": "#%% md\n"
    }
   },
   "source": [
    "358610"
   ]
  },
  {
   "cell_type": "markdown",
   "metadata": {
    "deletable": false,
    "editable": false,
    "nbgrader": {
     "cell_type": "markdown",
     "checksum": "4b05fc7d1dfefa3ee8d7c82d2b3092fe",
     "grade": false,
     "grade_id": "Q4-2",
     "locked": true,
     "points": 1,
     "schema_version": 3,
     "solution": false,
     "task": true
    },
    "pycharm": {
     "name": "#%% md\n"
    }
   },
   "source": [
    "<div class=\"question\">\n",
    "2. How long are the reads?\n",
    "</div>\n"
   ]
  },
  {
   "cell_type": "markdown",
   "metadata": {
    "pycharm": {
     "name": "#%% md\n"
    }
   },
   "source": [
    "76"
   ]
  },
  {
   "cell_type": "markdown",
   "metadata": {
    "deletable": false,
    "editable": false,
    "nbgrader": {
     "cell_type": "markdown",
     "checksum": "01b0c4630e610a1c472aaa4e2069b62d",
     "grade": false,
     "grade_id": "Q4-3",
     "locked": true,
     "points": 1,
     "schema_version": 3,
     "solution": false,
     "task": true
    },
    "pycharm": {
     "name": "#%% md\n"
    }
   },
   "source": [
    "<div class=\"question\">\n",
    "3. Are all the reads the same length?\n",
    "</div>\n"
   ]
  },
  {
   "cell_type": "markdown",
   "metadata": {
    "pycharm": {
     "name": "#%% md\n"
    }
   },
   "source": [
    "No"
   ]
  },
  {
   "cell_type": "markdown",
   "metadata": {
    "deletable": false,
    "editable": false,
    "nbgrader": {
     "cell_type": "markdown",
     "checksum": "dd2ee171cb1fc7ff15a7daf979f2f17f",
     "grade": false,
     "grade_id": "Q4-4",
     "locked": true,
     "points": 1,
     "schema_version": 3,
     "solution": false,
     "task": true
    },
    "pycharm": {
     "name": "#%% md\n"
    }
   },
   "source": [
    "<div class=\"question\">\n",
    "4. How are the quality scores distributed across the length of the reads?\n",
    "</div>\n"
   ]
  },
  {
   "cell_type": "markdown",
   "metadata": {
    "pycharm": {
     "name": "#%% md\n"
    }
   },
   "source": [
    "-- GRADED CELL (1 mark) - complete this cell --\n",
    "\n",
    "YOUR ANSWER HERE"
   ]
  },
  {
   "cell_type": "markdown",
   "metadata": {
    "deletable": false,
    "editable": false,
    "nbgrader": {
     "cell_type": "markdown",
     "checksum": "10e603ec3a1be3eea08f6d3dec1e9b48",
     "grade": false,
     "grade_id": "Q4-5",
     "locked": true,
     "points": 1,
     "schema_version": 3,
     "solution": false,
     "task": true
    },
    "pycharm": {
     "name": "#%% md\n"
    }
   },
   "source": [
    "<div class=\"question\">\n",
    "5. Are there any overrepresented sequences?\n",
    "</div>\n"
   ]
  },
  {
   "cell_type": "markdown",
   "metadata": {
    "pycharm": {
     "name": "#%% md\n"
    }
   },
   "source": [
    "Yes\n",
    "GATCGGAAGAGCTCGTATGCCGTCTTCTGCTTGGATCGGAAGAGCACACG\n",
    "Proportion: 0.3248654527202253"
   ]
  },
  {
   "cell_type": "markdown",
   "metadata": {
    "deletable": false,
    "editable": false,
    "nbgrader": {
     "cell_type": "markdown",
     "checksum": "9683b0d03d99f32962c0d4b671707b20",
     "grade": false,
     "grade_id": "Q4-6",
     "locked": true,
     "points": 1,
     "schema_version": 3,
     "solution": false,
     "task": true
    },
    "pycharm": {
     "name": "#%% md\n"
    }
   },
   "source": [
    "<div class=\"question\">\n",
    "6. What is the likely source of the overrepresented sequences?\n",
    "</div>\n"
   ]
  },
  {
   "cell_type": "markdown",
   "metadata": {
    "pycharm": {
     "name": "#%% md\n"
    }
   },
   "source": [
    "Illumina Single End Adapter 1 (100% over 33bp)"
   ]
  },
  {
   "cell_type": "markdown",
   "metadata": {
    "deletable": false,
    "editable": false,
    "nbgrader": {
     "cell_type": "markdown",
     "checksum": "6f9edbd634be64b9f7cf20c4b61ab84c",
     "grade": false,
     "grade_id": "Q4-7",
     "locked": true,
     "points": 1,
     "schema_version": 3,
     "solution": false,
     "task": true
    },
    "pycharm": {
     "name": "#%% md\n"
    }
   },
   "source": [
    "<div class=\"question\">\n",
    "7. Overall, is this read set of acceptable quality?\n",
    "</div>\n"
   ]
  },
  {
   "cell_type": "markdown",
   "metadata": {
    "pycharm": {
     "name": "#%% md\n"
    }
   },
   "source": [
    "Yes"
   ]
  },
  {
   "cell_type": "markdown",
   "metadata": {
    "pycharm": {
     "name": "#%% md\n"
    }
   },
   "source": [
    "### Some comments about quality control"
   ]
  },
  {
   "cell_type": "markdown",
   "metadata": {
    "pycharm": {
     "name": "#%% md\n"
    }
   },
   "source": [
    "What we have covered in this workshop is just one layer of quality control. \n",
    "\n",
    "Further QC would need to be done, depending on the type of analysis. QC should form an important component of all analyses. Ultimately, it can save a lot of time and effort!\n"
   ]
  },
  {
   "cell_type": "markdown",
   "metadata": {
    "pycharm": {
     "name": "#%% md\n"
    }
   },
   "source": [
    "\n",
    "FastQC outputs a report for an individual FASTQ file. If you are dealing with multiple read sets in your own projects, MultiQC provides a summary of all FastQC reports. See https://multiqc.info/ and have a look at the example reports."
   ]
  },
  {
   "cell_type": "markdown",
   "metadata": {
    "pycharm": {
     "name": "#%% md\n"
    }
   },
   "source": [
    "`Workshop developed by Steven Morgan, Dr Dieter Bulach, Dharmesh Bhuva, Holly Whitfield and Adam Taranto.`"
   ]
  }
 ],
 "metadata": {
  "kernelspec": {
   "display_name": "Python 3 (ipykernel)",
   "language": "python",
   "name": "python3"
  },
  "language_info": {
   "codemirror_mode": {
    "name": "ipython",
    "version": 3
   },
   "file_extension": ".py",
   "mimetype": "text/x-python",
   "name": "python",
   "nbconvert_exporter": "python",
   "pygments_lexer": "ipython3",
   "version": "3.10.9"
  }
 },
 "nbformat": 4,
 "nbformat_minor": 4
}